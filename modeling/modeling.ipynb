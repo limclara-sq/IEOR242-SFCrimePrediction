{
 "cells": [
  {
   "cell_type": "markdown",
   "metadata": {},
   "source": [
    "# DON'T RERUN CELLS FOR MODELS!\n",
    "\n",
    "### Add cells below to test anything"
   ]
  },
  {
   "cell_type": "code",
   "execution_count": 1,
   "metadata": {},
   "outputs": [],
   "source": [
    "import numpy as np\n",
    "import pandas as pd\n",
    "import matplotlib.pyplot as plt\n",
    "import seaborn as sns\n",
    "sns.set_style(\"darkgrid\")"
   ]
  },
  {
   "cell_type": "markdown",
   "metadata": {},
   "source": [
    "## 1. Read data\n",
    "* copy all housing monthly pricing data to each day, and dropping 01/2012 (no data)"
   ]
  },
  {
   "cell_type": "code",
   "execution_count": 2,
   "metadata": {},
   "outputs": [],
   "source": [
    "df = pd.read_csv(\"data/crime_sun_house_eviction.csv\")"
   ]
  },
  {
   "cell_type": "code",
   "execution_count": 3,
   "metadata": {},
   "outputs": [
    {
     "name": "stdout",
     "output_type": "stream",
     "text": [
      "(21920, 25)\n"
     ]
    },
    {
     "data": {
      "text/html": [
       "<div>\n",
       "<style scoped>\n",
       "    .dataframe tbody tr th:only-of-type {\n",
       "        vertical-align: middle;\n",
       "    }\n",
       "\n",
       "    .dataframe tbody tr th {\n",
       "        vertical-align: top;\n",
       "    }\n",
       "\n",
       "    .dataframe thead th {\n",
       "        text-align: right;\n",
       "    }\n",
       "</style>\n",
       "<table border=\"1\" class=\"dataframe\">\n",
       "  <thead>\n",
       "    <tr style=\"text-align: right;\">\n",
       "      <th></th>\n",
       "      <th>Date</th>\n",
       "      <th>DayOfWeek</th>\n",
       "      <th>PdDistrict</th>\n",
       "      <th>new_cat_domestic</th>\n",
       "      <th>new_cat_drug</th>\n",
       "      <th>new_cat_kidnap</th>\n",
       "      <th>new_cat_others</th>\n",
       "      <th>new_cat_public</th>\n",
       "      <th>new_cat_sex</th>\n",
       "      <th>new_cat_suicide</th>\n",
       "      <th>...</th>\n",
       "      <th>house_listings_sum</th>\n",
       "      <th>Dom_median</th>\n",
       "      <th>Dom_mean</th>\n",
       "      <th>Dom_min</th>\n",
       "      <th>Dom_max</th>\n",
       "      <th>Sale_median</th>\n",
       "      <th>Sale_mean</th>\n",
       "      <th>Sale_min</th>\n",
       "      <th>Sale_max</th>\n",
       "      <th>EvictionNos</th>\n",
       "    </tr>\n",
       "  </thead>\n",
       "  <tbody>\n",
       "    <tr>\n",
       "      <th>0</th>\n",
       "      <td>01/01/2012</td>\n",
       "      <td>Sunday</td>\n",
       "      <td>BAYVIEW</td>\n",
       "      <td>1</td>\n",
       "      <td>1</td>\n",
       "      <td>0</td>\n",
       "      <td>20</td>\n",
       "      <td>17</td>\n",
       "      <td>1</td>\n",
       "      <td>0</td>\n",
       "      <td>...</td>\n",
       "      <td>NaN</td>\n",
       "      <td>NaN</td>\n",
       "      <td>NaN</td>\n",
       "      <td>NaN</td>\n",
       "      <td>NaN</td>\n",
       "      <td>NaN</td>\n",
       "      <td>NaN</td>\n",
       "      <td>NaN</td>\n",
       "      <td>NaN</td>\n",
       "      <td>0.0</td>\n",
       "    </tr>\n",
       "    <tr>\n",
       "      <th>1</th>\n",
       "      <td>01/01/2012</td>\n",
       "      <td>Sunday</td>\n",
       "      <td>CENTRAL</td>\n",
       "      <td>3</td>\n",
       "      <td>2</td>\n",
       "      <td>0</td>\n",
       "      <td>11</td>\n",
       "      <td>22</td>\n",
       "      <td>0</td>\n",
       "      <td>0</td>\n",
       "      <td>...</td>\n",
       "      <td>NaN</td>\n",
       "      <td>NaN</td>\n",
       "      <td>NaN</td>\n",
       "      <td>NaN</td>\n",
       "      <td>NaN</td>\n",
       "      <td>NaN</td>\n",
       "      <td>NaN</td>\n",
       "      <td>NaN</td>\n",
       "      <td>NaN</td>\n",
       "      <td>0.0</td>\n",
       "    </tr>\n",
       "    <tr>\n",
       "      <th>2</th>\n",
       "      <td>01/01/2012</td>\n",
       "      <td>Sunday</td>\n",
       "      <td>INGLESIDE</td>\n",
       "      <td>0</td>\n",
       "      <td>0</td>\n",
       "      <td>0</td>\n",
       "      <td>8</td>\n",
       "      <td>11</td>\n",
       "      <td>3</td>\n",
       "      <td>0</td>\n",
       "      <td>...</td>\n",
       "      <td>NaN</td>\n",
       "      <td>NaN</td>\n",
       "      <td>NaN</td>\n",
       "      <td>NaN</td>\n",
       "      <td>NaN</td>\n",
       "      <td>NaN</td>\n",
       "      <td>NaN</td>\n",
       "      <td>NaN</td>\n",
       "      <td>NaN</td>\n",
       "      <td>0.0</td>\n",
       "    </tr>\n",
       "    <tr>\n",
       "      <th>3</th>\n",
       "      <td>01/01/2012</td>\n",
       "      <td>Sunday</td>\n",
       "      <td>MISSION</td>\n",
       "      <td>2</td>\n",
       "      <td>0</td>\n",
       "      <td>0</td>\n",
       "      <td>7</td>\n",
       "      <td>16</td>\n",
       "      <td>0</td>\n",
       "      <td>0</td>\n",
       "      <td>...</td>\n",
       "      <td>NaN</td>\n",
       "      <td>NaN</td>\n",
       "      <td>NaN</td>\n",
       "      <td>NaN</td>\n",
       "      <td>NaN</td>\n",
       "      <td>NaN</td>\n",
       "      <td>NaN</td>\n",
       "      <td>NaN</td>\n",
       "      <td>NaN</td>\n",
       "      <td>0.0</td>\n",
       "    </tr>\n",
       "    <tr>\n",
       "      <th>4</th>\n",
       "      <td>01/01/2012</td>\n",
       "      <td>Sunday</td>\n",
       "      <td>NORTHERN</td>\n",
       "      <td>0</td>\n",
       "      <td>1</td>\n",
       "      <td>0</td>\n",
       "      <td>7</td>\n",
       "      <td>14</td>\n",
       "      <td>0</td>\n",
       "      <td>1</td>\n",
       "      <td>...</td>\n",
       "      <td>NaN</td>\n",
       "      <td>NaN</td>\n",
       "      <td>NaN</td>\n",
       "      <td>NaN</td>\n",
       "      <td>NaN</td>\n",
       "      <td>NaN</td>\n",
       "      <td>NaN</td>\n",
       "      <td>NaN</td>\n",
       "      <td>NaN</td>\n",
       "      <td>0.0</td>\n",
       "    </tr>\n",
       "  </tbody>\n",
       "</table>\n",
       "<p>5 rows × 25 columns</p>\n",
       "</div>"
      ],
      "text/plain": [
       "         Date DayOfWeek PdDistrict  new_cat_domestic  new_cat_drug  \\\n",
       "0  01/01/2012    Sunday    BAYVIEW                 1             1   \n",
       "1  01/01/2012    Sunday    CENTRAL                 3             2   \n",
       "2  01/01/2012    Sunday  INGLESIDE                 0             0   \n",
       "3  01/01/2012    Sunday    MISSION                 2             0   \n",
       "4  01/01/2012    Sunday   NORTHERN                 0             1   \n",
       "\n",
       "   new_cat_kidnap  new_cat_others  new_cat_public  new_cat_sex  \\\n",
       "0               0              20              17            1   \n",
       "1               0              11              22            0   \n",
       "2               0               8              11            3   \n",
       "3               0               7              16            0   \n",
       "4               0               7              14            0   \n",
       "\n",
       "   new_cat_suicide  ...  house_listings_sum  Dom_median  Dom_mean  Dom_min  \\\n",
       "0                0  ...                 NaN         NaN       NaN      NaN   \n",
       "1                0  ...                 NaN         NaN       NaN      NaN   \n",
       "2                0  ...                 NaN         NaN       NaN      NaN   \n",
       "3                0  ...                 NaN         NaN       NaN      NaN   \n",
       "4                1  ...                 NaN         NaN       NaN      NaN   \n",
       "\n",
       "   Dom_max  Sale_median  Sale_mean  Sale_min  Sale_max  EvictionNos  \n",
       "0      NaN          NaN        NaN       NaN       NaN          0.0  \n",
       "1      NaN          NaN        NaN       NaN       NaN          0.0  \n",
       "2      NaN          NaN        NaN       NaN       NaN          0.0  \n",
       "3      NaN          NaN        NaN       NaN       NaN          0.0  \n",
       "4      NaN          NaN        NaN       NaN       NaN          0.0  \n",
       "\n",
       "[5 rows x 25 columns]"
      ]
     },
     "execution_count": 3,
     "metadata": {},
     "output_type": "execute_result"
    }
   ],
   "source": [
    "print(df.shape)\n",
    "df.head()"
   ]
  },
  {
   "cell_type": "code",
   "execution_count": 4,
   "metadata": {},
   "outputs": [
    {
     "data": {
      "text/plain": [
       "Index(['Date', 'DayOfWeek', 'PdDistrict', 'new_cat_domestic', 'new_cat_drug',\n",
       "       'new_cat_kidnap', 'new_cat_others', 'new_cat_public', 'new_cat_sex',\n",
       "       'new_cat_suicide', 'new_cat_theft', 'sum_crime_district',\n",
       "       'sunrise_time', 'sunset_time', 'daylight_hours', 'house_listings_sum',\n",
       "       'Dom_median', 'Dom_mean', 'Dom_min', 'Dom_max', 'Sale_median',\n",
       "       'Sale_mean', 'Sale_min', 'Sale_max', 'EvictionNos'],\n",
       "      dtype='object')"
      ]
     },
     "execution_count": 4,
     "metadata": {},
     "output_type": "execute_result"
    }
   ],
   "source": [
    "df.columns"
   ]
  },
  {
   "cell_type": "code",
   "execution_count": 5,
   "metadata": {},
   "outputs": [],
   "source": [
    "df[\"match_col\"] = df[\"Date\"].apply(lambda x: x[:2] + x[-4:])"
   ]
  },
  {
   "cell_type": "code",
   "execution_count": 6,
   "metadata": {},
   "outputs": [],
   "source": [
    "new_df = df[[\"Date\", \"PdDistrict\",\"match_col\", 'house_listings_sum',\n",
    "       'Dom_median', 'Dom_mean', 'Dom_min', 'Dom_max', 'Sale_median',\n",
    "       'Sale_mean', 'Sale_min', 'Sale_max']]"
   ]
  },
  {
   "cell_type": "code",
   "execution_count": 7,
   "metadata": {},
   "outputs": [
    {
     "name": "stderr",
     "output_type": "stream",
     "text": [
      "C:\\Users\\Wei Tan\\Anaconda3\\lib\\site-packages\\ipykernel_launcher.py:1: SettingWithCopyWarning: \n",
      "A value is trying to be set on a copy of a slice from a DataFrame\n",
      "\n",
      "See the caveats in the documentation: http://pandas.pydata.org/pandas-docs/stable/indexing.html#indexing-view-versus-copy\n",
      "  \"\"\"Entry point for launching an IPython kernel.\n"
     ]
    }
   ],
   "source": [
    "new_df.dropna(inplace=True)\n",
    "new_df.reset_index(drop=True, inplace=True)"
   ]
  },
  {
   "cell_type": "code",
   "execution_count": 8,
   "metadata": {},
   "outputs": [
    {
     "data": {
      "text/html": [
       "<div>\n",
       "<style scoped>\n",
       "    .dataframe tbody tr th:only-of-type {\n",
       "        vertical-align: middle;\n",
       "    }\n",
       "\n",
       "    .dataframe tbody tr th {\n",
       "        vertical-align: top;\n",
       "    }\n",
       "\n",
       "    .dataframe thead th {\n",
       "        text-align: right;\n",
       "    }\n",
       "</style>\n",
       "<table border=\"1\" class=\"dataframe\">\n",
       "  <thead>\n",
       "    <tr style=\"text-align: right;\">\n",
       "      <th></th>\n",
       "      <th>Date</th>\n",
       "      <th>PdDistrict</th>\n",
       "      <th>match_col</th>\n",
       "      <th>house_listings_sum</th>\n",
       "      <th>Dom_median</th>\n",
       "      <th>Dom_mean</th>\n",
       "      <th>Dom_min</th>\n",
       "      <th>Dom_max</th>\n",
       "      <th>Sale_median</th>\n",
       "      <th>Sale_mean</th>\n",
       "      <th>Sale_min</th>\n",
       "      <th>Sale_max</th>\n",
       "    </tr>\n",
       "  </thead>\n",
       "  <tbody>\n",
       "    <tr>\n",
       "      <th>0</th>\n",
       "      <td>01/31/2013</td>\n",
       "      <td>BAYVIEW</td>\n",
       "      <td>012013</td>\n",
       "      <td>505.0</td>\n",
       "      <td>21.25</td>\n",
       "      <td>24.600000</td>\n",
       "      <td>13.0</td>\n",
       "      <td>46.0</td>\n",
       "      <td>546000.0</td>\n",
       "      <td>6.141000e+05</td>\n",
       "      <td>368000.0</td>\n",
       "      <td>1275000.0</td>\n",
       "    </tr>\n",
       "    <tr>\n",
       "      <th>1</th>\n",
       "      <td>01/31/2013</td>\n",
       "      <td>CENTRAL</td>\n",
       "      <td>012013</td>\n",
       "      <td>131.0</td>\n",
       "      <td>17.75</td>\n",
       "      <td>19.000000</td>\n",
       "      <td>11.0</td>\n",
       "      <td>32.0</td>\n",
       "      <td>894000.0</td>\n",
       "      <td>8.921667e+05</td>\n",
       "      <td>475000.0</td>\n",
       "      <td>1300000.0</td>\n",
       "    </tr>\n",
       "    <tr>\n",
       "      <th>2</th>\n",
       "      <td>01/31/2013</td>\n",
       "      <td>INGLESIDE</td>\n",
       "      <td>012013</td>\n",
       "      <td>130.0</td>\n",
       "      <td>16.00</td>\n",
       "      <td>18.050000</td>\n",
       "      <td>12.5</td>\n",
       "      <td>30.5</td>\n",
       "      <td>583000.0</td>\n",
       "      <td>6.355000e+05</td>\n",
       "      <td>533000.0</td>\n",
       "      <td>887000.0</td>\n",
       "    </tr>\n",
       "    <tr>\n",
       "      <th>3</th>\n",
       "      <td>01/31/2013</td>\n",
       "      <td>MISSION</td>\n",
       "      <td>012013</td>\n",
       "      <td>137.0</td>\n",
       "      <td>16.00</td>\n",
       "      <td>17.700000</td>\n",
       "      <td>12.0</td>\n",
       "      <td>28.5</td>\n",
       "      <td>1000000.0</td>\n",
       "      <td>1.036800e+06</td>\n",
       "      <td>804000.0</td>\n",
       "      <td>1365000.0</td>\n",
       "    </tr>\n",
       "    <tr>\n",
       "      <th>4</th>\n",
       "      <td>01/31/2013</td>\n",
       "      <td>NORTHERN</td>\n",
       "      <td>012013</td>\n",
       "      <td>147.0</td>\n",
       "      <td>19.50</td>\n",
       "      <td>20.277778</td>\n",
       "      <td>12.0</td>\n",
       "      <td>33.0</td>\n",
       "      <td>1183000.0</td>\n",
       "      <td>1.099778e+06</td>\n",
       "      <td>543000.0</td>\n",
       "      <td>1435000.0</td>\n",
       "    </tr>\n",
       "  </tbody>\n",
       "</table>\n",
       "</div>"
      ],
      "text/plain": [
       "         Date PdDistrict match_col  house_listings_sum  Dom_median   Dom_mean  \\\n",
       "0  01/31/2013    BAYVIEW    012013               505.0       21.25  24.600000   \n",
       "1  01/31/2013    CENTRAL    012013               131.0       17.75  19.000000   \n",
       "2  01/31/2013  INGLESIDE    012013               130.0       16.00  18.050000   \n",
       "3  01/31/2013    MISSION    012013               137.0       16.00  17.700000   \n",
       "4  01/31/2013   NORTHERN    012013               147.0       19.50  20.277778   \n",
       "\n",
       "   Dom_min  Dom_max  Sale_median     Sale_mean  Sale_min   Sale_max  \n",
       "0     13.0     46.0     546000.0  6.141000e+05  368000.0  1275000.0  \n",
       "1     11.0     32.0     894000.0  8.921667e+05  475000.0  1300000.0  \n",
       "2     12.5     30.5     583000.0  6.355000e+05  533000.0   887000.0  \n",
       "3     12.0     28.5    1000000.0  1.036800e+06  804000.0  1365000.0  \n",
       "4     12.0     33.0    1183000.0  1.099778e+06  543000.0  1435000.0  "
      ]
     },
     "execution_count": 8,
     "metadata": {},
     "output_type": "execute_result"
    }
   ],
   "source": [
    "new_df.head()"
   ]
  },
  {
   "cell_type": "code",
   "execution_count": 9,
   "metadata": {},
   "outputs": [],
   "source": [
    "df.drop(columns=['house_listings_sum',\n",
    "       'Dom_median', 'Dom_mean', 'Dom_min', 'Dom_max', 'Sale_median',\n",
    "       'Sale_mean', 'Sale_min', 'Sale_max'], inplace=True)"
   ]
  },
  {
   "cell_type": "code",
   "execution_count": 10,
   "metadata": {},
   "outputs": [
    {
     "data": {
      "text/plain": [
       "(21920, 17)"
      ]
     },
     "execution_count": 10,
     "metadata": {},
     "output_type": "execute_result"
    }
   ],
   "source": [
    "df.shape"
   ]
  },
  {
   "cell_type": "code",
   "execution_count": 11,
   "metadata": {},
   "outputs": [],
   "source": [
    "df = pd.merge(df, new_df, on=[\"match_col\", \"PdDistrict\"], how=\"left\")"
   ]
  },
  {
   "cell_type": "code",
   "execution_count": 12,
   "metadata": {},
   "outputs": [
    {
     "data": {
      "text/plain": [
       "(21920, 27)"
      ]
     },
     "execution_count": 12,
     "metadata": {},
     "output_type": "execute_result"
    }
   ],
   "source": [
    "df.shape"
   ]
  },
  {
   "cell_type": "code",
   "execution_count": 13,
   "metadata": {},
   "outputs": [
    {
     "data": {
      "text/html": [
       "<div>\n",
       "<style scoped>\n",
       "    .dataframe tbody tr th:only-of-type {\n",
       "        vertical-align: middle;\n",
       "    }\n",
       "\n",
       "    .dataframe tbody tr th {\n",
       "        vertical-align: top;\n",
       "    }\n",
       "\n",
       "    .dataframe thead th {\n",
       "        text-align: right;\n",
       "    }\n",
       "</style>\n",
       "<table border=\"1\" class=\"dataframe\">\n",
       "  <thead>\n",
       "    <tr style=\"text-align: right;\">\n",
       "      <th></th>\n",
       "      <th>Date_x</th>\n",
       "      <th>DayOfWeek</th>\n",
       "      <th>PdDistrict</th>\n",
       "      <th>new_cat_domestic</th>\n",
       "      <th>new_cat_drug</th>\n",
       "      <th>new_cat_kidnap</th>\n",
       "      <th>new_cat_others</th>\n",
       "      <th>new_cat_public</th>\n",
       "      <th>new_cat_sex</th>\n",
       "      <th>new_cat_suicide</th>\n",
       "      <th>...</th>\n",
       "      <th>Date_y</th>\n",
       "      <th>house_listings_sum</th>\n",
       "      <th>Dom_median</th>\n",
       "      <th>Dom_mean</th>\n",
       "      <th>Dom_min</th>\n",
       "      <th>Dom_max</th>\n",
       "      <th>Sale_median</th>\n",
       "      <th>Sale_mean</th>\n",
       "      <th>Sale_min</th>\n",
       "      <th>Sale_max</th>\n",
       "    </tr>\n",
       "  </thead>\n",
       "  <tbody>\n",
       "    <tr>\n",
       "      <th>0</th>\n",
       "      <td>01/01/2012</td>\n",
       "      <td>Sunday</td>\n",
       "      <td>BAYVIEW</td>\n",
       "      <td>1</td>\n",
       "      <td>1</td>\n",
       "      <td>0</td>\n",
       "      <td>20</td>\n",
       "      <td>17</td>\n",
       "      <td>1</td>\n",
       "      <td>0</td>\n",
       "      <td>...</td>\n",
       "      <td>NaN</td>\n",
       "      <td>NaN</td>\n",
       "      <td>NaN</td>\n",
       "      <td>NaN</td>\n",
       "      <td>NaN</td>\n",
       "      <td>NaN</td>\n",
       "      <td>NaN</td>\n",
       "      <td>NaN</td>\n",
       "      <td>NaN</td>\n",
       "      <td>NaN</td>\n",
       "    </tr>\n",
       "    <tr>\n",
       "      <th>1</th>\n",
       "      <td>01/01/2012</td>\n",
       "      <td>Sunday</td>\n",
       "      <td>CENTRAL</td>\n",
       "      <td>3</td>\n",
       "      <td>2</td>\n",
       "      <td>0</td>\n",
       "      <td>11</td>\n",
       "      <td>22</td>\n",
       "      <td>0</td>\n",
       "      <td>0</td>\n",
       "      <td>...</td>\n",
       "      <td>NaN</td>\n",
       "      <td>NaN</td>\n",
       "      <td>NaN</td>\n",
       "      <td>NaN</td>\n",
       "      <td>NaN</td>\n",
       "      <td>NaN</td>\n",
       "      <td>NaN</td>\n",
       "      <td>NaN</td>\n",
       "      <td>NaN</td>\n",
       "      <td>NaN</td>\n",
       "    </tr>\n",
       "    <tr>\n",
       "      <th>2</th>\n",
       "      <td>01/01/2012</td>\n",
       "      <td>Sunday</td>\n",
       "      <td>INGLESIDE</td>\n",
       "      <td>0</td>\n",
       "      <td>0</td>\n",
       "      <td>0</td>\n",
       "      <td>8</td>\n",
       "      <td>11</td>\n",
       "      <td>3</td>\n",
       "      <td>0</td>\n",
       "      <td>...</td>\n",
       "      <td>NaN</td>\n",
       "      <td>NaN</td>\n",
       "      <td>NaN</td>\n",
       "      <td>NaN</td>\n",
       "      <td>NaN</td>\n",
       "      <td>NaN</td>\n",
       "      <td>NaN</td>\n",
       "      <td>NaN</td>\n",
       "      <td>NaN</td>\n",
       "      <td>NaN</td>\n",
       "    </tr>\n",
       "    <tr>\n",
       "      <th>3</th>\n",
       "      <td>01/01/2012</td>\n",
       "      <td>Sunday</td>\n",
       "      <td>MISSION</td>\n",
       "      <td>2</td>\n",
       "      <td>0</td>\n",
       "      <td>0</td>\n",
       "      <td>7</td>\n",
       "      <td>16</td>\n",
       "      <td>0</td>\n",
       "      <td>0</td>\n",
       "      <td>...</td>\n",
       "      <td>NaN</td>\n",
       "      <td>NaN</td>\n",
       "      <td>NaN</td>\n",
       "      <td>NaN</td>\n",
       "      <td>NaN</td>\n",
       "      <td>NaN</td>\n",
       "      <td>NaN</td>\n",
       "      <td>NaN</td>\n",
       "      <td>NaN</td>\n",
       "      <td>NaN</td>\n",
       "    </tr>\n",
       "    <tr>\n",
       "      <th>4</th>\n",
       "      <td>01/01/2012</td>\n",
       "      <td>Sunday</td>\n",
       "      <td>NORTHERN</td>\n",
       "      <td>0</td>\n",
       "      <td>1</td>\n",
       "      <td>0</td>\n",
       "      <td>7</td>\n",
       "      <td>14</td>\n",
       "      <td>0</td>\n",
       "      <td>1</td>\n",
       "      <td>...</td>\n",
       "      <td>NaN</td>\n",
       "      <td>NaN</td>\n",
       "      <td>NaN</td>\n",
       "      <td>NaN</td>\n",
       "      <td>NaN</td>\n",
       "      <td>NaN</td>\n",
       "      <td>NaN</td>\n",
       "      <td>NaN</td>\n",
       "      <td>NaN</td>\n",
       "      <td>NaN</td>\n",
       "    </tr>\n",
       "  </tbody>\n",
       "</table>\n",
       "<p>5 rows × 27 columns</p>\n",
       "</div>"
      ],
      "text/plain": [
       "       Date_x DayOfWeek PdDistrict  new_cat_domestic  new_cat_drug  \\\n",
       "0  01/01/2012    Sunday    BAYVIEW                 1             1   \n",
       "1  01/01/2012    Sunday    CENTRAL                 3             2   \n",
       "2  01/01/2012    Sunday  INGLESIDE                 0             0   \n",
       "3  01/01/2012    Sunday    MISSION                 2             0   \n",
       "4  01/01/2012    Sunday   NORTHERN                 0             1   \n",
       "\n",
       "   new_cat_kidnap  new_cat_others  new_cat_public  new_cat_sex  \\\n",
       "0               0              20              17            1   \n",
       "1               0              11              22            0   \n",
       "2               0               8              11            3   \n",
       "3               0               7              16            0   \n",
       "4               0               7              14            0   \n",
       "\n",
       "   new_cat_suicide  ...  Date_y  house_listings_sum  Dom_median  Dom_mean  \\\n",
       "0                0  ...     NaN                 NaN         NaN       NaN   \n",
       "1                0  ...     NaN                 NaN         NaN       NaN   \n",
       "2                0  ...     NaN                 NaN         NaN       NaN   \n",
       "3                0  ...     NaN                 NaN         NaN       NaN   \n",
       "4                1  ...     NaN                 NaN         NaN       NaN   \n",
       "\n",
       "   Dom_min  Dom_max Sale_median Sale_mean  Sale_min  Sale_max  \n",
       "0      NaN      NaN         NaN       NaN       NaN       NaN  \n",
       "1      NaN      NaN         NaN       NaN       NaN       NaN  \n",
       "2      NaN      NaN         NaN       NaN       NaN       NaN  \n",
       "3      NaN      NaN         NaN       NaN       NaN       NaN  \n",
       "4      NaN      NaN         NaN       NaN       NaN       NaN  \n",
       "\n",
       "[5 rows x 27 columns]"
      ]
     },
     "execution_count": 13,
     "metadata": {},
     "output_type": "execute_result"
    }
   ],
   "source": [
    "df.head()"
   ]
  },
  {
   "cell_type": "code",
   "execution_count": 14,
   "metadata": {},
   "outputs": [],
   "source": [
    "del new_df"
   ]
  },
  {
   "cell_type": "code",
   "execution_count": 15,
   "metadata": {},
   "outputs": [
    {
     "data": {
      "text/plain": [
       "310"
      ]
     },
     "execution_count": 15,
     "metadata": {},
     "output_type": "execute_result"
    }
   ],
   "source": [
    "df[\"Date_y\"].isnull().sum()"
   ]
  },
  {
   "cell_type": "code",
   "execution_count": 16,
   "metadata": {},
   "outputs": [
    {
     "data": {
      "text/plain": [
       "((21920, 27), (21610, 27))"
      ]
     },
     "execution_count": 16,
     "metadata": {},
     "output_type": "execute_result"
    }
   ],
   "source": [
    "df.shape, df.dropna().shape    # sanity check"
   ]
  },
  {
   "cell_type": "code",
   "execution_count": 17,
   "metadata": {},
   "outputs": [],
   "source": [
    "df.dropna(inplace=True)"
   ]
  },
  {
   "cell_type": "code",
   "execution_count": 18,
   "metadata": {},
   "outputs": [],
   "source": [
    "df.reset_index(drop=True, inplace=True)"
   ]
  },
  {
   "cell_type": "code",
   "execution_count": 19,
   "metadata": {},
   "outputs": [
    {
     "data": {
      "text/plain": [
       "Index(['Date_x', 'DayOfWeek', 'PdDistrict', 'new_cat_domestic', 'new_cat_drug',\n",
       "       'new_cat_kidnap', 'new_cat_others', 'new_cat_public', 'new_cat_sex',\n",
       "       'new_cat_suicide', 'new_cat_theft', 'sum_crime_district',\n",
       "       'sunrise_time', 'sunset_time', 'daylight_hours', 'EvictionNos',\n",
       "       'match_col', 'Date_y', 'house_listings_sum', 'Dom_median', 'Dom_mean',\n",
       "       'Dom_min', 'Dom_max', 'Sale_median', 'Sale_mean', 'Sale_min',\n",
       "       'Sale_max'],\n",
       "      dtype='object')"
      ]
     },
     "execution_count": 19,
     "metadata": {},
     "output_type": "execute_result"
    }
   ],
   "source": [
    "df.columns"
   ]
  },
  {
   "cell_type": "code",
   "execution_count": 20,
   "metadata": {},
   "outputs": [],
   "source": [
    "df.drop(columns=[\"Date_y\", \"match_col\"], inplace=True)"
   ]
  },
  {
   "cell_type": "code",
   "execution_count": 26,
   "metadata": {},
   "outputs": [
    {
     "data": {
      "text/plain": [
       "Index(['Date', 'DayOfWeek', 'PdDistrict', 'new_cat_domestic', 'new_cat_drug',\n",
       "       'new_cat_kidnap', 'new_cat_others', 'new_cat_public', 'new_cat_sex',\n",
       "       'new_cat_suicide', 'new_cat_theft', 'sum_crime_district',\n",
       "       'sunrise_time', 'sunset_time', 'daylight_hours', 'EvictionNos',\n",
       "       'house_listings_sum', 'Dom_median', 'Dom_mean', 'Dom_min', 'Dom_max',\n",
       "       'Sale_median', 'Sale_mean', 'Sale_min', 'Sale_max'],\n",
       "      dtype='object')"
      ]
     },
     "execution_count": 26,
     "metadata": {},
     "output_type": "execute_result"
    }
   ],
   "source": [
    "df.columns"
   ]
  },
  {
   "cell_type": "code",
   "execution_count": 23,
   "metadata": {},
   "outputs": [],
   "source": [
    "df.rename(columns={\"Date_x\": \"Date\"}, inplace=True)"
   ]
  },
  {
   "cell_type": "code",
   "execution_count": 24,
   "metadata": {},
   "outputs": [
    {
     "data": {
      "text/html": [
       "<div>\n",
       "<style scoped>\n",
       "    .dataframe tbody tr th:only-of-type {\n",
       "        vertical-align: middle;\n",
       "    }\n",
       "\n",
       "    .dataframe tbody tr th {\n",
       "        vertical-align: top;\n",
       "    }\n",
       "\n",
       "    .dataframe thead th {\n",
       "        text-align: right;\n",
       "    }\n",
       "</style>\n",
       "<table border=\"1\" class=\"dataframe\">\n",
       "  <thead>\n",
       "    <tr style=\"text-align: right;\">\n",
       "      <th></th>\n",
       "      <th>Date</th>\n",
       "      <th>DayOfWeek</th>\n",
       "      <th>PdDistrict</th>\n",
       "      <th>new_cat_domestic</th>\n",
       "      <th>new_cat_drug</th>\n",
       "      <th>new_cat_kidnap</th>\n",
       "      <th>new_cat_others</th>\n",
       "      <th>new_cat_public</th>\n",
       "      <th>new_cat_sex</th>\n",
       "      <th>new_cat_suicide</th>\n",
       "      <th>...</th>\n",
       "      <th>EvictionNos</th>\n",
       "      <th>house_listings_sum</th>\n",
       "      <th>Dom_median</th>\n",
       "      <th>Dom_mean</th>\n",
       "      <th>Dom_min</th>\n",
       "      <th>Dom_max</th>\n",
       "      <th>Sale_median</th>\n",
       "      <th>Sale_mean</th>\n",
       "      <th>Sale_min</th>\n",
       "      <th>Sale_max</th>\n",
       "    </tr>\n",
       "  </thead>\n",
       "  <tbody>\n",
       "    <tr>\n",
       "      <th>0</th>\n",
       "      <td>01/01/2013</td>\n",
       "      <td>Tuesday</td>\n",
       "      <td>BAYVIEW</td>\n",
       "      <td>3</td>\n",
       "      <td>1</td>\n",
       "      <td>1</td>\n",
       "      <td>13</td>\n",
       "      <td>16</td>\n",
       "      <td>2</td>\n",
       "      <td>0</td>\n",
       "      <td>...</td>\n",
       "      <td>0.0</td>\n",
       "      <td>505.0</td>\n",
       "      <td>21.25</td>\n",
       "      <td>24.600000</td>\n",
       "      <td>13.0</td>\n",
       "      <td>46.0</td>\n",
       "      <td>546000.0</td>\n",
       "      <td>6.141000e+05</td>\n",
       "      <td>368000.0</td>\n",
       "      <td>1275000.0</td>\n",
       "    </tr>\n",
       "    <tr>\n",
       "      <th>1</th>\n",
       "      <td>01/01/2013</td>\n",
       "      <td>Tuesday</td>\n",
       "      <td>CENTRAL</td>\n",
       "      <td>1</td>\n",
       "      <td>0</td>\n",
       "      <td>0</td>\n",
       "      <td>6</td>\n",
       "      <td>15</td>\n",
       "      <td>0</td>\n",
       "      <td>0</td>\n",
       "      <td>...</td>\n",
       "      <td>0.0</td>\n",
       "      <td>131.0</td>\n",
       "      <td>17.75</td>\n",
       "      <td>19.000000</td>\n",
       "      <td>11.0</td>\n",
       "      <td>32.0</td>\n",
       "      <td>894000.0</td>\n",
       "      <td>8.921667e+05</td>\n",
       "      <td>475000.0</td>\n",
       "      <td>1300000.0</td>\n",
       "    </tr>\n",
       "    <tr>\n",
       "      <th>2</th>\n",
       "      <td>01/01/2013</td>\n",
       "      <td>Tuesday</td>\n",
       "      <td>INGLESIDE</td>\n",
       "      <td>3</td>\n",
       "      <td>1</td>\n",
       "      <td>0</td>\n",
       "      <td>12</td>\n",
       "      <td>12</td>\n",
       "      <td>2</td>\n",
       "      <td>0</td>\n",
       "      <td>...</td>\n",
       "      <td>0.0</td>\n",
       "      <td>130.0</td>\n",
       "      <td>16.00</td>\n",
       "      <td>18.050000</td>\n",
       "      <td>12.5</td>\n",
       "      <td>30.5</td>\n",
       "      <td>583000.0</td>\n",
       "      <td>6.355000e+05</td>\n",
       "      <td>533000.0</td>\n",
       "      <td>887000.0</td>\n",
       "    </tr>\n",
       "    <tr>\n",
       "      <th>3</th>\n",
       "      <td>01/01/2013</td>\n",
       "      <td>Tuesday</td>\n",
       "      <td>MISSION</td>\n",
       "      <td>2</td>\n",
       "      <td>2</td>\n",
       "      <td>0</td>\n",
       "      <td>12</td>\n",
       "      <td>13</td>\n",
       "      <td>3</td>\n",
       "      <td>0</td>\n",
       "      <td>...</td>\n",
       "      <td>0.0</td>\n",
       "      <td>137.0</td>\n",
       "      <td>16.00</td>\n",
       "      <td>17.700000</td>\n",
       "      <td>12.0</td>\n",
       "      <td>28.5</td>\n",
       "      <td>1000000.0</td>\n",
       "      <td>1.036800e+06</td>\n",
       "      <td>804000.0</td>\n",
       "      <td>1365000.0</td>\n",
       "    </tr>\n",
       "    <tr>\n",
       "      <th>4</th>\n",
       "      <td>01/01/2013</td>\n",
       "      <td>Tuesday</td>\n",
       "      <td>NORTHERN</td>\n",
       "      <td>2</td>\n",
       "      <td>1</td>\n",
       "      <td>0</td>\n",
       "      <td>6</td>\n",
       "      <td>15</td>\n",
       "      <td>0</td>\n",
       "      <td>0</td>\n",
       "      <td>...</td>\n",
       "      <td>0.0</td>\n",
       "      <td>147.0</td>\n",
       "      <td>19.50</td>\n",
       "      <td>20.277778</td>\n",
       "      <td>12.0</td>\n",
       "      <td>33.0</td>\n",
       "      <td>1183000.0</td>\n",
       "      <td>1.099778e+06</td>\n",
       "      <td>543000.0</td>\n",
       "      <td>1435000.0</td>\n",
       "    </tr>\n",
       "  </tbody>\n",
       "</table>\n",
       "<p>5 rows × 25 columns</p>\n",
       "</div>"
      ],
      "text/plain": [
       "         Date DayOfWeek PdDistrict  new_cat_domestic  new_cat_drug  \\\n",
       "0  01/01/2013   Tuesday    BAYVIEW                 3             1   \n",
       "1  01/01/2013   Tuesday    CENTRAL                 1             0   \n",
       "2  01/01/2013   Tuesday  INGLESIDE                 3             1   \n",
       "3  01/01/2013   Tuesday    MISSION                 2             2   \n",
       "4  01/01/2013   Tuesday   NORTHERN                 2             1   \n",
       "\n",
       "   new_cat_kidnap  new_cat_others  new_cat_public  new_cat_sex  \\\n",
       "0               1              13              16            2   \n",
       "1               0               6              15            0   \n",
       "2               0              12              12            2   \n",
       "3               0              12              13            3   \n",
       "4               0               6              15            0   \n",
       "\n",
       "   new_cat_suicide  ...  EvictionNos  house_listings_sum  Dom_median  \\\n",
       "0                0  ...          0.0               505.0       21.25   \n",
       "1                0  ...          0.0               131.0       17.75   \n",
       "2                0  ...          0.0               130.0       16.00   \n",
       "3                0  ...          0.0               137.0       16.00   \n",
       "4                0  ...          0.0               147.0       19.50   \n",
       "\n",
       "    Dom_mean  Dom_min  Dom_max  Sale_median     Sale_mean  Sale_min   Sale_max  \n",
       "0  24.600000     13.0     46.0     546000.0  6.141000e+05  368000.0  1275000.0  \n",
       "1  19.000000     11.0     32.0     894000.0  8.921667e+05  475000.0  1300000.0  \n",
       "2  18.050000     12.5     30.5     583000.0  6.355000e+05  533000.0   887000.0  \n",
       "3  17.700000     12.0     28.5    1000000.0  1.036800e+06  804000.0  1365000.0  \n",
       "4  20.277778     12.0     33.0    1183000.0  1.099778e+06  543000.0  1435000.0  \n",
       "\n",
       "[5 rows x 25 columns]"
      ]
     },
     "execution_count": 24,
     "metadata": {},
     "output_type": "execute_result"
    }
   ],
   "source": [
    "df.head()"
   ]
  },
  {
   "cell_type": "code",
   "execution_count": 43,
   "metadata": {},
   "outputs": [],
   "source": [
    "model_df = pd.get_dummies(df, columns=[\"DayOfWeek\", \"PdDistrict\"])"
   ]
  },
  {
   "cell_type": "code",
   "execution_count": 44,
   "metadata": {},
   "outputs": [
    {
     "data": {
      "text/plain": [
       "(21610, 40)"
      ]
     },
     "execution_count": 44,
     "metadata": {},
     "output_type": "execute_result"
    }
   ],
   "source": [
    "model_df.shape"
   ]
  },
  {
   "cell_type": "markdown",
   "metadata": {},
   "source": [
    "## 2. Prep for modeling"
   ]
  },
  {
   "cell_type": "code",
   "execution_count": 47,
   "metadata": {},
   "outputs": [
    {
     "data": {
      "text/plain": [
       "Index(['Date', 'new_cat_domestic', 'new_cat_drug', 'new_cat_kidnap',\n",
       "       'new_cat_others', 'new_cat_public', 'new_cat_sex', 'new_cat_suicide',\n",
       "       'new_cat_theft', 'sum_crime_district', 'sunrise_time', 'sunset_time',\n",
       "       'daylight_hours', 'EvictionNos', 'house_listings_sum', 'Dom_median',\n",
       "       'Dom_mean', 'Dom_min', 'Dom_max', 'Sale_median', 'Sale_mean',\n",
       "       'Sale_min', 'Sale_max', 'DayOfWeek_Friday', 'DayOfWeek_Monday',\n",
       "       'DayOfWeek_Saturday', 'DayOfWeek_Sunday', 'DayOfWeek_Thursday',\n",
       "       'DayOfWeek_Tuesday', 'DayOfWeek_Wednesday', 'PdDistrict_BAYVIEW',\n",
       "       'PdDistrict_CENTRAL', 'PdDistrict_INGLESIDE', 'PdDistrict_MISSION',\n",
       "       'PdDistrict_NORTHERN', 'PdDistrict_PARK', 'PdDistrict_RICHMOND',\n",
       "       'PdDistrict_SOUTHERN', 'PdDistrict_TARAVAL', 'PdDistrict_TENDERLOIN'],\n",
       "      dtype='object')"
      ]
     },
     "execution_count": 47,
     "metadata": {},
     "output_type": "execute_result"
    }
   ],
   "source": [
    "model_df.columns"
   ]
  },
  {
   "cell_type": "code",
   "execution_count": 32,
   "metadata": {},
   "outputs": [],
   "source": [
    "from sklearn.metrics import mean_absolute_error\n",
    "from sklearn.model_selection import train_test_split"
   ]
  },
  {
   "cell_type": "code",
   "execution_count": 76,
   "metadata": {},
   "outputs": [],
   "source": [
    "X =  model_df[['sunrise_time', 'sunset_time',\n",
    "       'daylight_hours', 'EvictionNos', 'house_listings_sum', 'Dom_median',\n",
    "       'Dom_mean', 'Dom_min', 'Dom_max', 'Sale_median', 'Sale_mean',\n",
    "       'Sale_min', 'Sale_max', 'DayOfWeek_Friday', 'DayOfWeek_Monday',\n",
    "       'DayOfWeek_Saturday', 'DayOfWeek_Sunday', 'DayOfWeek_Thursday',\n",
    "       'DayOfWeek_Tuesday', 'DayOfWeek_Wednesday', 'PdDistrict_BAYVIEW',\n",
    "       'PdDistrict_CENTRAL', 'PdDistrict_INGLESIDE', 'PdDistrict_MISSION',\n",
    "       'PdDistrict_NORTHERN', 'PdDistrict_PARK', 'PdDistrict_RICHMOND',\n",
    "       'PdDistrict_SOUTHERN', 'PdDistrict_TARAVAL', 'PdDistrict_TENDERLOIN']]"
   ]
  },
  {
   "cell_type": "code",
   "execution_count": 77,
   "metadata": {},
   "outputs": [],
   "source": [
    "y = model_df[['new_cat_domestic', 'new_cat_drug', 'new_cat_kidnap', 'new_cat_others', \n",
    "     'new_cat_public', 'new_cat_sex', 'new_cat_suicide', 'new_cat_theft', 'sum_crime_district']]"
   ]
  },
  {
   "cell_type": "code",
   "execution_count": 147,
   "metadata": {},
   "outputs": [],
   "source": [
    "from sklearn.model_selection import GridSearchCV\n",
    "\n",
    "def algorithm_run(parameters, classifier, X, y):\n",
    "    grid = GridSearchCV(classifier, parameters, scoring=\"neg_mean_absolute_error\",cv=5)\n",
    "    grid.fit(X, y)\n",
    "    bestparams = grid.best_params_\n",
    "    bestscore = grid.best_score_\n",
    "    print(bestparams, bestscore)\n",
    "    return bestparams, bestscore"
   ]
  },
  {
   "cell_type": "markdown",
   "metadata": {},
   "source": [
    "### Linear Regression"
   ]
  },
  {
   "cell_type": "code",
   "execution_count": 138,
   "metadata": {},
   "outputs": [],
   "source": [
    "def run_linearregression_cv(X, y):\n",
    "    \n",
    "    X_train, X_test, y_train_all, y_test_all = train_test_split(X, y, test_size=0.20, random_state=2019)\n",
    "    \n",
    "    y_feats = ['new_cat_domestic', 'new_cat_drug', 'new_cat_kidnap', 'new_cat_others', \n",
    "     'new_cat_public', 'new_cat_sex', 'new_cat_suicide', 'new_cat_theft', 'sum_crime_district']\n",
    "        \n",
    "    from sklearn.linear_model import LinearRegression\n",
    "    \n",
    "    lr_parameters = {\"normalize\": [True, False]\n",
    "                 }\n",
    "    \n",
    "    test_mae_list = []\n",
    "    train_mae_list = []\n",
    "    \n",
    "    for i in y_feats:\n",
    "        \n",
    "        y_train = y_train_all[i]\n",
    "        y_test = y_test_all[i]\n",
    "        lr_bestparams, lr_bestscore = algorithm_run(lr_parameters, LinearRegression(), X_train, y_train)\n",
    "        lr = LinearRegression(**lr_bestparams)\n",
    "        lr.fit(X_train, y_train)\n",
    "        lr_score = lr.score(X_train, y_train)\n",
    "\n",
    "        lr_test_predictions = lr.predict(X_test)\n",
    "        lr_train_predictions = lr.predict(X_train)\n",
    "        lr_test_mae = mean_absolute_error(y_test, lr_test_predictions)\n",
    "        lr_train_mae = mean_absolute_error(y_train, lr_train_predictions)\n",
    "        test_mae_list.append(lr_test_mae)\n",
    "        train_mae_list.append(lr_train_mae)\n",
    "        \n",
    "        print(\"For {}, test mae = {}, train mae = {}.\".format(str(i), str(lr_test_mae), str(lr_train_mae)))\n",
    "        \n",
    "    results_df = pd.DataFrame({\"y\": y_feats, \"test MAE\": test_mae_list, \"train MAE\": train_mae_list})\n",
    "        \n",
    "    return results_df"
   ]
  },
  {
   "cell_type": "code",
   "execution_count": 139,
   "metadata": {},
   "outputs": [
    {
     "name": "stdout",
     "output_type": "stream",
     "text": [
      "{'normalize': False} -0.7724596405528756\n",
      "For new_cat_domestic, test mae = 0.7840732770549008, train mae = 0.7711832225150516.\n",
      "{'normalize': True} -0.7907140838310679\n",
      "For new_cat_drug, test mae = 0.7835709149012563, train mae = 0.7891990602653404.\n",
      "{'normalize': True} -0.1666662553801759\n",
      "For new_cat_kidnap, test mae = 0.16974661119881512, train mae = 0.16635909682891034.\n",
      "{'normalize': False} -2.0243011516224443\n",
      "For new_cat_others, test mae = 2.0247732881026854, train mae = 2.0200960867773334.\n",
      "{'normalize': True} -2.842523680457914\n",
      "For new_cat_public, test mae = 2.796681728786, train mae = 2.8379308106021046.\n",
      "{'normalize': False} -0.4463283564001707\n",
      "For new_cat_sex, test mae = 0.43430779097640887, train mae = 0.4456058040641277.\n",
      "{'normalize': True} -0.03964694871846703\n",
      "For new_cat_suicide, test mae = 0.043269112923598786, train mae = 0.039565428032754806.\n",
      "{'normalize': True} -4.172301160448717\n",
      "For new_cat_theft, test mae = 4.170812462469801, train mae = 4.165616987614764.\n",
      "{'normalize': False} -6.481494347515562\n",
      "For sum_crime_district, test mae = 6.470188981658045, train mae = 6.470639417923445.\n"
     ]
    }
   ],
   "source": [
    "lr_res = run_linearregression_cv(X, y)"
   ]
  },
  {
   "cell_type": "code",
   "execution_count": 140,
   "metadata": {},
   "outputs": [
    {
     "data": {
      "text/html": [
       "<div>\n",
       "<style scoped>\n",
       "    .dataframe tbody tr th:only-of-type {\n",
       "        vertical-align: middle;\n",
       "    }\n",
       "\n",
       "    .dataframe tbody tr th {\n",
       "        vertical-align: top;\n",
       "    }\n",
       "\n",
       "    .dataframe thead th {\n",
       "        text-align: right;\n",
       "    }\n",
       "</style>\n",
       "<table border=\"1\" class=\"dataframe\">\n",
       "  <thead>\n",
       "    <tr style=\"text-align: right;\">\n",
       "      <th></th>\n",
       "      <th>y</th>\n",
       "      <th>test MAE</th>\n",
       "      <th>train MAE</th>\n",
       "    </tr>\n",
       "  </thead>\n",
       "  <tbody>\n",
       "    <tr>\n",
       "      <th>0</th>\n",
       "      <td>new_cat_domestic</td>\n",
       "      <td>0.784073</td>\n",
       "      <td>0.771183</td>\n",
       "    </tr>\n",
       "    <tr>\n",
       "      <th>1</th>\n",
       "      <td>new_cat_drug</td>\n",
       "      <td>0.783571</td>\n",
       "      <td>0.789199</td>\n",
       "    </tr>\n",
       "    <tr>\n",
       "      <th>2</th>\n",
       "      <td>new_cat_kidnap</td>\n",
       "      <td>0.169747</td>\n",
       "      <td>0.166359</td>\n",
       "    </tr>\n",
       "    <tr>\n",
       "      <th>3</th>\n",
       "      <td>new_cat_others</td>\n",
       "      <td>2.024773</td>\n",
       "      <td>2.020096</td>\n",
       "    </tr>\n",
       "    <tr>\n",
       "      <th>4</th>\n",
       "      <td>new_cat_public</td>\n",
       "      <td>2.796682</td>\n",
       "      <td>2.837931</td>\n",
       "    </tr>\n",
       "    <tr>\n",
       "      <th>5</th>\n",
       "      <td>new_cat_sex</td>\n",
       "      <td>0.434308</td>\n",
       "      <td>0.445606</td>\n",
       "    </tr>\n",
       "    <tr>\n",
       "      <th>6</th>\n",
       "      <td>new_cat_suicide</td>\n",
       "      <td>0.043269</td>\n",
       "      <td>0.039565</td>\n",
       "    </tr>\n",
       "    <tr>\n",
       "      <th>7</th>\n",
       "      <td>new_cat_theft</td>\n",
       "      <td>4.170812</td>\n",
       "      <td>4.165617</td>\n",
       "    </tr>\n",
       "    <tr>\n",
       "      <th>8</th>\n",
       "      <td>sum_crime_district</td>\n",
       "      <td>6.470189</td>\n",
       "      <td>6.470639</td>\n",
       "    </tr>\n",
       "  </tbody>\n",
       "</table>\n",
       "</div>"
      ],
      "text/plain": [
       "                    y  test MAE  train MAE\n",
       "0    new_cat_domestic  0.784073   0.771183\n",
       "1        new_cat_drug  0.783571   0.789199\n",
       "2      new_cat_kidnap  0.169747   0.166359\n",
       "3      new_cat_others  2.024773   2.020096\n",
       "4      new_cat_public  2.796682   2.837931\n",
       "5         new_cat_sex  0.434308   0.445606\n",
       "6     new_cat_suicide  0.043269   0.039565\n",
       "7       new_cat_theft  4.170812   4.165617\n",
       "8  sum_crime_district  6.470189   6.470639"
      ]
     },
     "execution_count": 140,
     "metadata": {},
     "output_type": "execute_result"
    }
   ],
   "source": [
    "lr_res"
   ]
  },
  {
   "cell_type": "markdown",
   "metadata": {},
   "source": [
    "### Random Forest"
   ]
  },
  {
   "cell_type": "code",
   "execution_count": 141,
   "metadata": {},
   "outputs": [],
   "source": [
    "def run_randomforest_cv(X, y):\n",
    "    \n",
    "    X_train, X_test, y_train_all, y_test_all = train_test_split(X, y, test_size=0.20, random_state=2019)\n",
    "    \n",
    "    y_feats = ['new_cat_domestic', 'new_cat_drug', 'new_cat_kidnap', 'new_cat_others', \n",
    "     'new_cat_public', 'new_cat_sex', 'new_cat_suicide', 'new_cat_theft', 'sum_crime_district']\n",
    "        \n",
    "    from sklearn.ensemble import RandomForestRegressor\n",
    "    \n",
    "    rf_parameters = {\"n_estimators\" : [2, 3, 5, 10], \n",
    "                     \"criterion\" : [\"mse\"], \n",
    "                     \"max_depth\" : [5, 6, 8], \n",
    "                     \"min_samples_split\" : [2, 3, 4, 5], \n",
    "                     \"min_samples_leaf\" : [2, 3, 4],\n",
    "                     \"random_state\" : [2019]\n",
    "                 }\n",
    "    \n",
    "    test_mae_list = []\n",
    "    train_mae_list = []\n",
    "    \n",
    "    for i in y_feats:\n",
    "        \n",
    "        y_train = y_train_all[i]\n",
    "        y_test = y_test_all[i]\n",
    "        rf_bestparams, rf_bestscore = algorithm_run(rf_parameters, RandomForestRegressor(), X_train, y_train)\n",
    "        rf = RandomForestRegressor(**rf_bestparams)\n",
    "        rf.fit(X_train, y_train)\n",
    "        rf_score = rf.score(X_train, y_train)\n",
    "\n",
    "        rf_test_predictions = rf.predict(X_test)\n",
    "        rf_train_predictions = rf.predict(X_train)\n",
    "        rf_test_mae = mean_absolute_error(y_test, rf_test_predictions)\n",
    "        rf_train_mae = mean_absolute_error(y_train, rf_train_predictions)\n",
    "        test_mae_list.append(rf_test_mae)\n",
    "        train_mae_list.append(rf_train_mae)\n",
    "        \n",
    "        print(\"For {}, test mae = {}, train mae = {}.\".format(str(i), str(rf_test_mae), str(rf_train_mae)))\n",
    "        \n",
    "    results_df = pd.DataFrame({\"y\": y_feats, \"test MAE\": test_mae_list, \"train MAE\": train_mae_list})\n",
    "        \n",
    "    return results_df"
   ]
  },
  {
   "cell_type": "code",
   "execution_count": 142,
   "metadata": {},
   "outputs": [
    {
     "name": "stdout",
     "output_type": "stream",
     "text": [
      "{'criterion': 'mse', 'max_depth': 6, 'min_samples_leaf': 3, 'min_samples_split': 2, 'n_estimators': 10, 'random_state': 2019} -0.762853901861455\n",
      "For new_cat_domestic, test mae = 0.7744272252663261, train mae = 0.7549246688544509.\n",
      "{'criterion': 'mse', 'max_depth': 8, 'min_samples_leaf': 3, 'min_samples_split': 2, 'n_estimators': 10, 'random_state': 2019} -0.7867184212743499\n",
      "For new_cat_drug, test mae = 0.7767523306815787, train mae = 0.7476792966285677.\n",
      "{'criterion': 'mse', 'max_depth': 8, 'min_samples_leaf': 4, 'min_samples_split': 2, 'n_estimators': 5, 'random_state': 2019} -0.16566530149098388\n",
      "For new_cat_kidnap, test mae = 0.1686040765075719, train mae = 0.15646606916789899.\n",
      "{'criterion': 'mse', 'max_depth': 8, 'min_samples_leaf': 4, 'min_samples_split': 2, 'n_estimators': 10, 'random_state': 2019} -2.0001519285382354\n",
      "For new_cat_others, test mae = 1.9983194414129708, train mae = 1.9212883760401975.\n",
      "{'criterion': 'mse', 'max_depth': 8, 'min_samples_leaf': 3, 'min_samples_split': 2, 'n_estimators': 10, 'random_state': 2019} -2.830680354921146\n",
      "For new_cat_public, test mae = 2.804534173289838, train mae = 2.7194653420668113.\n",
      "{'criterion': 'mse', 'max_depth': 5, 'min_samples_leaf': 2, 'min_samples_split': 2, 'n_estimators': 2, 'random_state': 2019} -0.44513459636444\n",
      "For new_cat_sex, test mae = 0.44846022161665333, train mae = 0.4444689954069415.\n",
      "{'criterion': 'mse', 'max_depth': 6, 'min_samples_leaf': 4, 'min_samples_split': 2, 'n_estimators': 10, 'random_state': 2019} -0.03977766719583752\n",
      "For new_cat_suicide, test mae = 0.04320667963857602, train mae = 0.038830137427183865.\n",
      "{'criterion': 'mse', 'max_depth': 8, 'min_samples_leaf': 3, 'min_samples_split': 2, 'n_estimators': 10, 'random_state': 2019} -3.8431541284540813\n",
      "For new_cat_theft, test mae = 3.8490373712574564, train mae = 3.658783079399763.\n",
      "{'criterion': 'mse', 'max_depth': 8, 'min_samples_leaf': 4, 'min_samples_split': 2, 'n_estimators': 10, 'random_state': 2019} -6.151411004697981\n",
      "For sum_crime_district, test mae = 6.193261967702663, train mae = 5.88819004805535.\n"
     ]
    }
   ],
   "source": [
    "rf_res = run_randomforest_cv(X, y)"
   ]
  },
  {
   "cell_type": "code",
   "execution_count": 143,
   "metadata": {},
   "outputs": [
    {
     "data": {
      "text/html": [
       "<div>\n",
       "<style scoped>\n",
       "    .dataframe tbody tr th:only-of-type {\n",
       "        vertical-align: middle;\n",
       "    }\n",
       "\n",
       "    .dataframe tbody tr th {\n",
       "        vertical-align: top;\n",
       "    }\n",
       "\n",
       "    .dataframe thead th {\n",
       "        text-align: right;\n",
       "    }\n",
       "</style>\n",
       "<table border=\"1\" class=\"dataframe\">\n",
       "  <thead>\n",
       "    <tr style=\"text-align: right;\">\n",
       "      <th></th>\n",
       "      <th>y</th>\n",
       "      <th>test MAE</th>\n",
       "      <th>train MAE</th>\n",
       "    </tr>\n",
       "  </thead>\n",
       "  <tbody>\n",
       "    <tr>\n",
       "      <th>0</th>\n",
       "      <td>new_cat_domestic</td>\n",
       "      <td>0.774427</td>\n",
       "      <td>0.754925</td>\n",
       "    </tr>\n",
       "    <tr>\n",
       "      <th>1</th>\n",
       "      <td>new_cat_drug</td>\n",
       "      <td>0.776752</td>\n",
       "      <td>0.747679</td>\n",
       "    </tr>\n",
       "    <tr>\n",
       "      <th>2</th>\n",
       "      <td>new_cat_kidnap</td>\n",
       "      <td>0.168604</td>\n",
       "      <td>0.156466</td>\n",
       "    </tr>\n",
       "    <tr>\n",
       "      <th>3</th>\n",
       "      <td>new_cat_others</td>\n",
       "      <td>1.998319</td>\n",
       "      <td>1.921288</td>\n",
       "    </tr>\n",
       "    <tr>\n",
       "      <th>4</th>\n",
       "      <td>new_cat_public</td>\n",
       "      <td>2.804534</td>\n",
       "      <td>2.719465</td>\n",
       "    </tr>\n",
       "    <tr>\n",
       "      <th>5</th>\n",
       "      <td>new_cat_sex</td>\n",
       "      <td>0.448460</td>\n",
       "      <td>0.444469</td>\n",
       "    </tr>\n",
       "    <tr>\n",
       "      <th>6</th>\n",
       "      <td>new_cat_suicide</td>\n",
       "      <td>0.043207</td>\n",
       "      <td>0.038830</td>\n",
       "    </tr>\n",
       "    <tr>\n",
       "      <th>7</th>\n",
       "      <td>new_cat_theft</td>\n",
       "      <td>3.849037</td>\n",
       "      <td>3.658783</td>\n",
       "    </tr>\n",
       "    <tr>\n",
       "      <th>8</th>\n",
       "      <td>sum_crime_district</td>\n",
       "      <td>6.193262</td>\n",
       "      <td>5.888190</td>\n",
       "    </tr>\n",
       "  </tbody>\n",
       "</table>\n",
       "</div>"
      ],
      "text/plain": [
       "                    y  test MAE  train MAE\n",
       "0    new_cat_domestic  0.774427   0.754925\n",
       "1        new_cat_drug  0.776752   0.747679\n",
       "2      new_cat_kidnap  0.168604   0.156466\n",
       "3      new_cat_others  1.998319   1.921288\n",
       "4      new_cat_public  2.804534   2.719465\n",
       "5         new_cat_sex  0.448460   0.444469\n",
       "6     new_cat_suicide  0.043207   0.038830\n",
       "7       new_cat_theft  3.849037   3.658783\n",
       "8  sum_crime_district  6.193262   5.888190"
      ]
     },
     "execution_count": 143,
     "metadata": {},
     "output_type": "execute_result"
    }
   ],
   "source": [
    "rf_res"
   ]
  },
  {
   "cell_type": "code",
   "execution_count": 144,
   "metadata": {},
   "outputs": [
    {
     "data": {
      "text/plain": [
       "30.0"
      ]
     },
     "execution_count": 144,
     "metadata": {},
     "output_type": "execute_result"
    }
   ],
   "source": [
    "model_df[\"sum_crime_district\"].median()"
   ]
  },
  {
   "cell_type": "markdown",
   "metadata": {},
   "source": [
    "### Gradient Boosting"
   ]
  },
  {
   "cell_type": "code",
   "execution_count": 148,
   "metadata": {},
   "outputs": [],
   "source": [
    "def run_gradientboosting_cv(X, y):\n",
    "    \n",
    "    X_train, X_test, y_train_all, y_test_all = train_test_split(X, y, test_size=0.20, random_state=2019)\n",
    "    \n",
    "    y_feats = ['new_cat_domestic', 'new_cat_drug', 'new_cat_kidnap', 'new_cat_others', \n",
    "     'new_cat_public', 'new_cat_sex', 'new_cat_suicide', 'new_cat_theft', 'sum_crime_district']\n",
    "        \n",
    "    from sklearn.ensemble import GradientBoostingRegressor\n",
    "    \n",
    "    gbr_parameters = {\"learning_rate\" : [0.02, 0.05, 0.1],\n",
    "                      \"max_depth\" : [4, 6, 8],\n",
    "                      \"max_features\" : [1.0, 0.3, 0.1], \n",
    "                      \"min_samples_split\" : [2, 3, 4],\n",
    "                      \"random_state\" : [2019]\n",
    "                 }\n",
    "    \n",
    "    test_mae_list = []\n",
    "    train_mae_list = []\n",
    "    \n",
    "    for i in y_feats:\n",
    "        \n",
    "        y_train = y_train_all[i]\n",
    "        y_test = y_test_all[i]\n",
    "        gbr_bestparams, gbr_bestscore = algorithm_run(gbr_parameters, GradientBoostingRegressor(), X_train, y_train)\n",
    "        gbr = GradientBoostingRegressor(**gbr_bestparams)\n",
    "        gbr.fit(X_train, y_train)\n",
    "        gbr_score = gbr.score(X_train, y_train)\n",
    "\n",
    "        gbr_test_predictions = gbr.predict(X_test)\n",
    "        gbr_train_predictions = gbr.predict(X_train)\n",
    "        gbr_test_mae = mean_absolute_error(y_test, gbr_test_predictions)\n",
    "        gbr_train_mae = mean_absolute_error(y_train, gbr_train_predictions)\n",
    "        test_mae_list.append(gbr_test_mae)\n",
    "        train_mae_list.append(gbr_train_mae)\n",
    "        \n",
    "        print(\"For {}, test mae = {}, train mae = {}.\".format(str(i), str(gbr_test_mae), str(gbr_train_mae)))\n",
    "        \n",
    "    results_df = pd.DataFrame({\"y\": y_feats, \"test MAE\": test_mae_list, \"train MAE\": train_mae_list})\n",
    "        \n",
    "    return results_df"
   ]
  },
  {
   "cell_type": "code",
   "execution_count": 149,
   "metadata": {},
   "outputs": [
    {
     "name": "stdout",
     "output_type": "stream",
     "text": [
      "{'learning_rate': 0.1, 'max_depth': 4, 'max_features': 0.3, 'min_samples_split': 2, 'random_state': 2019} -0.7649009932571219\n",
      "For new_cat_domestic, test mae = 0.7693092928885842, train mae = 0.7409256281007862.\n",
      "{'learning_rate': 0.1, 'max_depth': 6, 'max_features': 0.1, 'min_samples_split': 4, 'random_state': 2019} -0.7741490511079359\n",
      "For new_cat_drug, test mae = 0.7732898865777595, train mae = 0.7074799815713119.\n",
      "{'learning_rate': 0.1, 'max_depth': 4, 'max_features': 0.3, 'min_samples_split': 3, 'random_state': 2019} -0.16559858409728487\n",
      "For new_cat_kidnap, test mae = 0.16854664664944483, train mae = 0.1599163228725851.\n",
      "{'learning_rate': 0.1, 'max_depth': 6, 'max_features': 0.1, 'min_samples_split': 3, 'random_state': 2019} -1.9778368481195696\n",
      "For new_cat_others, test mae = 1.9977712625200148, train mae = 1.8312532740387149.\n",
      "{'learning_rate': 0.1, 'max_depth': 4, 'max_features': 1.0, 'min_samples_split': 2, 'random_state': 2019} -2.796230217179423\n",
      "For new_cat_public, test mae = 2.743312880609293, train mae = 2.6912099488963306.\n",
      "{'learning_rate': 0.1, 'max_depth': 4, 'max_features': 0.1, 'min_samples_split': 4, 'random_state': 2019} -0.4465944440380933\n",
      "For new_cat_sex, test mae = 0.43299657358279803, train mae = 0.43424669194715027.\n",
      "{'learning_rate': 0.02, 'max_depth': 4, 'max_features': 0.1, 'min_samples_split': 2, 'random_state': 2019} -0.03968857339273821\n",
      "For new_cat_suicide, test mae = 0.04325705703639145, train mae = 0.039353221021123624.\n",
      "{'learning_rate': 0.1, 'max_depth': 6, 'max_features': 0.3, 'min_samples_split': 2, 'random_state': 2019} -3.740039902665932\n",
      "For new_cat_theft, test mae = 3.7532866066669412, train mae = 3.3595356197544275.\n",
      "{'learning_rate': 0.1, 'max_depth': 6, 'max_features': 0.3, 'min_samples_split': 4, 'random_state': 2019} -5.994285596634612\n",
      "For sum_crime_district, test mae = 6.017235030391641, train mae = 5.420853762664385.\n"
     ]
    }
   ],
   "source": [
    "gbr_res = run_gradientboosting_cv(X, y)"
   ]
  },
  {
   "cell_type": "code",
   "execution_count": 152,
   "metadata": {},
   "outputs": [
    {
     "data": {
      "text/html": [
       "<div>\n",
       "<style scoped>\n",
       "    .dataframe tbody tr th:only-of-type {\n",
       "        vertical-align: middle;\n",
       "    }\n",
       "\n",
       "    .dataframe tbody tr th {\n",
       "        vertical-align: top;\n",
       "    }\n",
       "\n",
       "    .dataframe thead th {\n",
       "        text-align: right;\n",
       "    }\n",
       "</style>\n",
       "<table border=\"1\" class=\"dataframe\">\n",
       "  <thead>\n",
       "    <tr style=\"text-align: right;\">\n",
       "      <th></th>\n",
       "      <th>y</th>\n",
       "      <th>test MAE</th>\n",
       "      <th>train MAE</th>\n",
       "    </tr>\n",
       "  </thead>\n",
       "  <tbody>\n",
       "    <tr>\n",
       "      <th>0</th>\n",
       "      <td>new_cat_domestic</td>\n",
       "      <td>0.769309</td>\n",
       "      <td>0.740926</td>\n",
       "    </tr>\n",
       "    <tr>\n",
       "      <th>1</th>\n",
       "      <td>new_cat_drug</td>\n",
       "      <td>0.773290</td>\n",
       "      <td>0.707480</td>\n",
       "    </tr>\n",
       "    <tr>\n",
       "      <th>2</th>\n",
       "      <td>new_cat_kidnap</td>\n",
       "      <td>0.168547</td>\n",
       "      <td>0.159916</td>\n",
       "    </tr>\n",
       "    <tr>\n",
       "      <th>3</th>\n",
       "      <td>new_cat_others</td>\n",
       "      <td>1.997771</td>\n",
       "      <td>1.831253</td>\n",
       "    </tr>\n",
       "    <tr>\n",
       "      <th>4</th>\n",
       "      <td>new_cat_public</td>\n",
       "      <td>2.743313</td>\n",
       "      <td>2.691210</td>\n",
       "    </tr>\n",
       "    <tr>\n",
       "      <th>5</th>\n",
       "      <td>new_cat_sex</td>\n",
       "      <td>0.432997</td>\n",
       "      <td>0.434247</td>\n",
       "    </tr>\n",
       "    <tr>\n",
       "      <th>6</th>\n",
       "      <td>new_cat_suicide</td>\n",
       "      <td>0.043257</td>\n",
       "      <td>0.039353</td>\n",
       "    </tr>\n",
       "    <tr>\n",
       "      <th>7</th>\n",
       "      <td>new_cat_theft</td>\n",
       "      <td>3.753287</td>\n",
       "      <td>3.359536</td>\n",
       "    </tr>\n",
       "    <tr>\n",
       "      <th>8</th>\n",
       "      <td>sum_crime_district</td>\n",
       "      <td>6.017235</td>\n",
       "      <td>5.420854</td>\n",
       "    </tr>\n",
       "  </tbody>\n",
       "</table>\n",
       "</div>"
      ],
      "text/plain": [
       "                    y  test MAE  train MAE\n",
       "0    new_cat_domestic  0.769309   0.740926\n",
       "1        new_cat_drug  0.773290   0.707480\n",
       "2      new_cat_kidnap  0.168547   0.159916\n",
       "3      new_cat_others  1.997771   1.831253\n",
       "4      new_cat_public  2.743313   2.691210\n",
       "5         new_cat_sex  0.432997   0.434247\n",
       "6     new_cat_suicide  0.043257   0.039353\n",
       "7       new_cat_theft  3.753287   3.359536\n",
       "8  sum_crime_district  6.017235   5.420854"
      ]
     },
     "execution_count": 152,
     "metadata": {},
     "output_type": "execute_result"
    }
   ],
   "source": [
    "gbr_res"
   ]
  },
  {
   "cell_type": "code",
   "execution_count": null,
   "metadata": {},
   "outputs": [],
   "source": []
  },
  {
   "cell_type": "markdown",
   "metadata": {},
   "source": [
    "### SVR"
   ]
  },
  {
   "cell_type": "code",
   "execution_count": 150,
   "metadata": {},
   "outputs": [],
   "source": [
    "def run_supportvector_cv(X, y):\n",
    "    \n",
    "    X_train, X_test, y_train_all, y_test_all = train_test_split(X, y, test_size=0.20, random_state=2019)\n",
    "    \n",
    "    y_feats = ['new_cat_domestic', 'new_cat_drug', 'new_cat_kidnap', 'new_cat_others', \n",
    "     'new_cat_public', 'new_cat_sex', 'new_cat_suicide', 'new_cat_theft', 'sum_crime_district']\n",
    "        \n",
    "    from sklearn.svm import SVR\n",
    "\n",
    "    test_mae_list = []\n",
    "    train_mae_list = []\n",
    "    \n",
    "    for i in y_feats:\n",
    "        \n",
    "        y_train = y_train_all[i]\n",
    "        y_test = y_test_all[i]\n",
    "        svr = SVR(C=1.0, kernel='rbf', gamma=0.0001)\n",
    "        svr.fit(X_train, y_train)\n",
    "        svr_score = svr.score(X_train, y_train)\n",
    "\n",
    "        svr_test_predictions = svr.predict(X_test)\n",
    "        svr_train_predictions = svr.predict(X_train)\n",
    "        svr_test_mae = mean_absolute_error(y_test, svr_test_predictions)\n",
    "        svr_train_mae = mean_absolute_error(y_train, svr_train_predictions)\n",
    "        test_mae_list.append(svr_test_mae)\n",
    "        train_mae_list.append(svr_train_mae)\n",
    "        \n",
    "        print(\"For {}, test mae = {}, train mae = {}.\".format(str(i), str(svr_test_mae), str(svr_train_mae)))\n",
    "        \n",
    "    results_df = pd.DataFrame({\"y\": y_feats, \"test MAE\": test_mae_list, \"train MAE\": train_mae_list})\n",
    "        \n",
    "    return results_df"
   ]
  },
  {
   "cell_type": "code",
   "execution_count": 151,
   "metadata": {},
   "outputs": [
    {
     "name": "stdout",
     "output_type": "stream",
     "text": [
      "For new_cat_domestic, test mae = 0.747227035431362, train mae = 0.6720512178194538.\n",
      "For new_cat_drug, test mae = 0.7298362690132677, train mae = 0.6765964541291154.\n",
      "For new_cat_kidnap, test mae = 0.1782346390352931, train mae = 0.17458317623513073.\n",
      "For new_cat_others, test mae = 2.0227432494820645, train mae = 1.8582912907359008.\n",
      "For new_cat_public, test mae = 2.8484126782840384, train mae = 2.686212609450237.\n",
      "For new_cat_sex, test mae = 0.365261428018084, train mae = 0.359928290817453.\n",
      "For new_cat_suicide, test mae = 0.11833666796117019, train mae = 0.11539185902706244.\n",
      "For new_cat_theft, test mae = 4.2012106535195715, train mae = 3.959140736461685.\n",
      "For sum_crime_district, test mae = 7.164395679337713, train mae = 6.977145779643572.\n"
     ]
    }
   ],
   "source": [
    "svr_res = run_supportvector_cv(X, y)"
   ]
  },
  {
   "cell_type": "code",
   "execution_count": 153,
   "metadata": {},
   "outputs": [
    {
     "data": {
      "text/html": [
       "<div>\n",
       "<style scoped>\n",
       "    .dataframe tbody tr th:only-of-type {\n",
       "        vertical-align: middle;\n",
       "    }\n",
       "\n",
       "    .dataframe tbody tr th {\n",
       "        vertical-align: top;\n",
       "    }\n",
       "\n",
       "    .dataframe thead th {\n",
       "        text-align: right;\n",
       "    }\n",
       "</style>\n",
       "<table border=\"1\" class=\"dataframe\">\n",
       "  <thead>\n",
       "    <tr style=\"text-align: right;\">\n",
       "      <th></th>\n",
       "      <th>y</th>\n",
       "      <th>test MAE</th>\n",
       "      <th>train MAE</th>\n",
       "    </tr>\n",
       "  </thead>\n",
       "  <tbody>\n",
       "    <tr>\n",
       "      <th>0</th>\n",
       "      <td>new_cat_domestic</td>\n",
       "      <td>0.747227</td>\n",
       "      <td>0.672051</td>\n",
       "    </tr>\n",
       "    <tr>\n",
       "      <th>1</th>\n",
       "      <td>new_cat_drug</td>\n",
       "      <td>0.729836</td>\n",
       "      <td>0.676596</td>\n",
       "    </tr>\n",
       "    <tr>\n",
       "      <th>2</th>\n",
       "      <td>new_cat_kidnap</td>\n",
       "      <td>0.178235</td>\n",
       "      <td>0.174583</td>\n",
       "    </tr>\n",
       "    <tr>\n",
       "      <th>3</th>\n",
       "      <td>new_cat_others</td>\n",
       "      <td>2.022743</td>\n",
       "      <td>1.858291</td>\n",
       "    </tr>\n",
       "    <tr>\n",
       "      <th>4</th>\n",
       "      <td>new_cat_public</td>\n",
       "      <td>2.848413</td>\n",
       "      <td>2.686213</td>\n",
       "    </tr>\n",
       "    <tr>\n",
       "      <th>5</th>\n",
       "      <td>new_cat_sex</td>\n",
       "      <td>0.365261</td>\n",
       "      <td>0.359928</td>\n",
       "    </tr>\n",
       "    <tr>\n",
       "      <th>6</th>\n",
       "      <td>new_cat_suicide</td>\n",
       "      <td>0.118337</td>\n",
       "      <td>0.115392</td>\n",
       "    </tr>\n",
       "    <tr>\n",
       "      <th>7</th>\n",
       "      <td>new_cat_theft</td>\n",
       "      <td>4.201211</td>\n",
       "      <td>3.959141</td>\n",
       "    </tr>\n",
       "    <tr>\n",
       "      <th>8</th>\n",
       "      <td>sum_crime_district</td>\n",
       "      <td>7.164396</td>\n",
       "      <td>6.977146</td>\n",
       "    </tr>\n",
       "  </tbody>\n",
       "</table>\n",
       "</div>"
      ],
      "text/plain": [
       "                    y  test MAE  train MAE\n",
       "0    new_cat_domestic  0.747227   0.672051\n",
       "1        new_cat_drug  0.729836   0.676596\n",
       "2      new_cat_kidnap  0.178235   0.174583\n",
       "3      new_cat_others  2.022743   1.858291\n",
       "4      new_cat_public  2.848413   2.686213\n",
       "5         new_cat_sex  0.365261   0.359928\n",
       "6     new_cat_suicide  0.118337   0.115392\n",
       "7       new_cat_theft  4.201211   3.959141\n",
       "8  sum_crime_district  7.164396   6.977146"
      ]
     },
     "execution_count": 153,
     "metadata": {},
     "output_type": "execute_result"
    }
   ],
   "source": [
    "svr_res"
   ]
  },
  {
   "cell_type": "code",
   "execution_count": null,
   "metadata": {},
   "outputs": [],
   "source": []
  },
  {
   "cell_type": "markdown",
   "metadata": {},
   "source": [
    "### XGBoost"
   ]
  },
  {
   "cell_type": "code",
   "execution_count": null,
   "metadata": {},
   "outputs": [],
   "source": []
  },
  {
   "cell_type": "code",
   "execution_count": null,
   "metadata": {},
   "outputs": [],
   "source": []
  },
  {
   "cell_type": "code",
   "execution_count": null,
   "metadata": {},
   "outputs": [],
   "source": []
  },
  {
   "cell_type": "code",
   "execution_count": null,
   "metadata": {},
   "outputs": [],
   "source": []
  },
  {
   "cell_type": "code",
   "execution_count": null,
   "metadata": {},
   "outputs": [],
   "source": []
  },
  {
   "cell_type": "code",
   "execution_count": null,
   "metadata": {},
   "outputs": [],
   "source": []
  }
 ],
 "metadata": {
  "kernelspec": {
   "display_name": "Python 3",
   "language": "python",
   "name": "python3"
  },
  "language_info": {
   "codemirror_mode": {
    "name": "ipython",
    "version": 3
   },
   "file_extension": ".py",
   "mimetype": "text/x-python",
   "name": "python",
   "nbconvert_exporter": "python",
   "pygments_lexer": "ipython3",
   "version": "3.7.0"
  }
 },
 "nbformat": 4,
 "nbformat_minor": 2
}
