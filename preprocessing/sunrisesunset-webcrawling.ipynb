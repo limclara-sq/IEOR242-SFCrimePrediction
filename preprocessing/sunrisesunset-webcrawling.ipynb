{
 "cells": [
  {
   "cell_type": "code",
   "execution_count": 5,
   "metadata": {
    "collapsed": true
   },
   "outputs": [],
   "source": [
    "import requests\n",
    "import pandas as pd\n",
    "import bs4\n",
    "import json\n",
    "from urllib import request"
   ]
  },
  {
   "cell_type": "markdown",
   "metadata": {},
   "source": [
    "# 1. Housing Price"
   ]
  },
  {
   "cell_type": "code",
   "execution_count": null,
   "metadata": {
    "collapsed": true
   },
   "outputs": [],
   "source": [
    "# Crawling Site: https://www.redfin.com/zipcode/94103/housing-market\n",
    "# Crawling Keyword: \\\"medianSalePrice\\\":\\\"$1.6M\\\",\\\"avgDownPayment\\\":\\\"27.4%\\\",\\\"medianSalePerSqFt"
   ]
  },
  {
   "cell_type": "markdown",
   "metadata": {},
   "source": [
    "# 2. Sunrise / Sunset Time"
   ]
  },
  {
   "cell_type": "code",
   "execution_count": null,
   "metadata": {
    "collapsed": true
   },
   "outputs": [],
   "source": [
    "# Crawling Site: https://www.timeanddate.com/sun/usa/san-francisco?month=3&year=2019\n",
    "# Crawling Keyword: </td></tr><tr data-day=10 title=\"Click to expand for more details\"><th>10</th><td class=\"c sep\">7:28 am <span class=\"comp sa8\" title=East>↑</span> <span class='small soft'>(95°)</span></td><td class=\"sep c\">7:12 pm <span class=\"comp sa24\" title=West>↑"
   ]
  },
  {
   "cell_type": "code",
   "execution_count": null,
   "metadata": {
    "collapsed": true
   },
   "outputs": [],
   "source": [
    "#https://services.timeanddate.com/api/services/astronomy.html"
   ]
  },
  {
   "cell_type": "code",
   "execution_count": null,
   "metadata": {
    "collapsed": true
   },
   "outputs": [],
   "source": [
    "#https://api.xmltime.com/astronomy?object=moon&placeid=152&startdt=2015-01-01&enddt=2015-01-28&types=all&version=2&out=text&template=csvsimple4&accesskey={KEY}&expires={TIMESTAMP}&signature={SIGNATURE}"
   ]
  },
  {
   "cell_type": "code",
   "execution_count": 9,
   "metadata": {},
   "outputs": [
    {
     "data": {
      "text/plain": [
       "b'{\"version\":1,\"errors\":[\"Signature invalid.\"]}'"
      ]
     },
     "execution_count": 9,
     "metadata": {},
     "output_type": "execute_result"
    }
   ],
   "source": [
    "import base64, datetime, hashlib, hmac, urllib\n",
    "\n",
    "entrypoint = \"http://api.xmltime.com/\"\n",
    "accesskey  = \"T1ZQyxufyV\"\n",
    "secretkey  = \"x4whvXnG7cCOBiNBoi1r\"\n",
    "placeid    = \"750\" #(224: San Francisco)\n",
    "\n",
    "\n",
    "def servicecall(service, args):\n",
    "    global entrypoint, accesskey, secretkey\n",
    "\n",
    "    timestamp = datetime.datetime.utcnow().isoformat()\n",
    "    message = (accesskey + service + timestamp).encode('utf-8')\n",
    "    digester = hmac.new(secretkey.encode('utf-8'), message, hashlib.sha1)\n",
    "\n",
    "    args['accesskey'] = accesskey\n",
    "    args['timestamp'] = timestamp\n",
    "    args['signature'] = base64.b64encode(digester.digest())\n",
    "    #print(args['signature'])\n",
    "    \n",
    "    url = entrypoint + '/' + service + '?' + urllib.parse.urlencode(args)\n",
    "    return urllib.request.urlopen(url).read()\n",
    "\n",
    "timedata = servicecall(\"timeservice\", dict(placeid=224, out='js'))\n",
    "timedata"
   ]
  },
  {
   "cell_type": "code",
   "execution_count": null,
   "metadata": {
    "collapsed": true
   },
   "outputs": [],
   "source": [
    "import requests\n",
    "import pandas as pd\n",
    "import bs4\n",
    "import json\n",
    "from urllib import request"
   ]
  },
  {
   "cell_type": "code",
   "execution_count": 26,
   "metadata": {},
   "outputs": [
    {
     "name": "stdout",
     "output_type": "stream",
     "text": [
      "05\n"
     ]
    }
   ],
   "source": [
    "Hey~~ thanks for Wei's help, the sunrise sunset crawling was printing no error. However, with the printing I realized that the access key should be gotten for $50 and the free trial does not include SF and only with one month! Too bad that I found another Therefore, I decided to manually copy paste some data "
   ]
  },
  {
   "cell_type": "code",
   "execution_count": 63,
   "metadata": {},
   "outputs": [
    {
     "name": "stdout",
     "output_type": "stream",
     "text": [
      "2012\n",
      "2013\n",
      "2014\n",
      "2015\n",
      "2016\n",
      "2017\n"
     ]
    },
    {
     "data": {
      "text/html": [
       "<div>\n",
       "<style>\n",
       "    .dataframe thead tr:only-child th {\n",
       "        text-align: right;\n",
       "    }\n",
       "\n",
       "    .dataframe thead th {\n",
       "        text-align: left;\n",
       "    }\n",
       "\n",
       "    .dataframe tbody tr th {\n",
       "        vertical-align: top;\n",
       "    }\n",
       "</style>\n",
       "<table border=\"1\" class=\"dataframe\">\n",
       "  <thead>\n",
       "    <tr style=\"text-align: right;\">\n",
       "      <th></th>\n",
       "      <th>date</th>\n",
       "      <th>sunrise</th>\n",
       "      <th>sunset</th>\n",
       "    </tr>\n",
       "  </thead>\n",
       "  <tbody>\n",
       "    <tr>\n",
       "      <th>2187</th>\n",
       "      <td>2017-12-27</td>\n",
       "      <td>3:24:09 PM</td>\n",
       "      <td>12:58:25 AM</td>\n",
       "    </tr>\n",
       "    <tr>\n",
       "      <th>2188</th>\n",
       "      <td>2017-12-28</td>\n",
       "      <td>3:24:25 PM</td>\n",
       "      <td>12:59:07 AM</td>\n",
       "    </tr>\n",
       "    <tr>\n",
       "      <th>2189</th>\n",
       "      <td>2017-12-29</td>\n",
       "      <td>3:24:40 PM</td>\n",
       "      <td>12:59:50 AM</td>\n",
       "    </tr>\n",
       "    <tr>\n",
       "      <th>2190</th>\n",
       "      <td>2017-12-30</td>\n",
       "      <td>3:24:52 PM</td>\n",
       "      <td>1:00:35 AM</td>\n",
       "    </tr>\n",
       "    <tr>\n",
       "      <th>2191</th>\n",
       "      <td>2017-12-31</td>\n",
       "      <td>3:25:02 PM</td>\n",
       "      <td>1:01:22 AM</td>\n",
       "    </tr>\n",
       "  </tbody>\n",
       "</table>\n",
       "</div>"
      ],
      "text/plain": [
       "            date     sunrise       sunset\n",
       "2187  2017-12-27  3:24:09 PM  12:58:25 AM\n",
       "2188  2017-12-28  3:24:25 PM  12:59:07 AM\n",
       "2189  2017-12-29  3:24:40 PM  12:59:50 AM\n",
       "2190  2017-12-30  3:24:52 PM   1:00:35 AM\n",
       "2191  2017-12-31  3:25:02 PM   1:01:22 AM"
      ]
     },
     "execution_count": 63,
     "metadata": {},
     "output_type": "execute_result"
    }
   ],
   "source": [
    "list_date    = []\n",
    "list_sunrise = []\n",
    "list_sunset  = []\n",
    "\n",
    "for i in range(2012,2018):\n",
    "    for j in range(1,13):\n",
    "        for k in range(1,32):\n",
    "            year  = str(i)\n",
    "            month = \"{:02d}\".format(j)\n",
    "            day   = \"{:02d}\".format(k)\n",
    "\n",
    "            res = requests.get('https://api.sunrise-sunset.org/json?lat=37.7739720&lng=-122.431297&date='+year+'-'+month+'-'+day)\n",
    "            json_data = json.loads(res.text)\n",
    "            \n",
    "            if json_data['status'] == 'OK':\n",
    "                sunrise = json_data['results']['sunrise']\n",
    "                sunset  = json_data['results']['sunset']\n",
    "            \n",
    "                list_date.append( year + '-' + month + '-' + day )\n",
    "                list_sunrise.append(sunrise)\n",
    "                list_sunset.append(sunset)\n",
    "    print(i)\n",
    "df = pd.DataFrame()\n",
    "df['date'] = list_date\n",
    "df['sunrise'] = list_sunrise\n",
    "df['sunset'] = list_sunset\n",
    "df.tail()"
   ]
  },
  {
   "cell_type": "code",
   "execution_count": 64,
   "metadata": {
    "collapsed": true
   },
   "outputs": [],
   "source": [
    "df.to_csv('original_sunrise_sunset.csv')"
   ]
  },
  {
   "cell_type": "code",
   "execution_count": 1,
   "metadata": {},
   "outputs": [
    {
     "data": {
      "text/html": [
       "<div>\n",
       "<style>\n",
       "    .dataframe thead tr:only-child th {\n",
       "        text-align: right;\n",
       "    }\n",
       "\n",
       "    .dataframe thead th {\n",
       "        text-align: left;\n",
       "    }\n",
       "\n",
       "    .dataframe tbody tr th {\n",
       "        vertical-align: top;\n",
       "    }\n",
       "</style>\n",
       "<table border=\"1\" class=\"dataframe\">\n",
       "  <thead>\n",
       "    <tr style=\"text-align: right;\">\n",
       "      <th></th>\n",
       "      <th>Unnamed: 0</th>\n",
       "      <th>date</th>\n",
       "      <th>sunrise</th>\n",
       "      <th>sunset</th>\n",
       "    </tr>\n",
       "  </thead>\n",
       "  <tbody>\n",
       "    <tr>\n",
       "      <th>0</th>\n",
       "      <td>0</td>\n",
       "      <td>2012-01-01</td>\n",
       "      <td>3:25:07 PM</td>\n",
       "      <td>1:01:44 AM</td>\n",
       "    </tr>\n",
       "    <tr>\n",
       "      <th>1</th>\n",
       "      <td>1</td>\n",
       "      <td>2012-01-02</td>\n",
       "      <td>3:25:15 PM</td>\n",
       "      <td>1:02:33 AM</td>\n",
       "    </tr>\n",
       "    <tr>\n",
       "      <th>2</th>\n",
       "      <td>2</td>\n",
       "      <td>2012-01-03</td>\n",
       "      <td>3:25:20 PM</td>\n",
       "      <td>1:03:23 AM</td>\n",
       "    </tr>\n",
       "    <tr>\n",
       "      <th>3</th>\n",
       "      <td>3</td>\n",
       "      <td>2012-01-04</td>\n",
       "      <td>3:25:23 PM</td>\n",
       "      <td>1:04:14 AM</td>\n",
       "    </tr>\n",
       "    <tr>\n",
       "      <th>4</th>\n",
       "      <td>4</td>\n",
       "      <td>2012-01-05</td>\n",
       "      <td>3:25:25 PM</td>\n",
       "      <td>1:05:06 AM</td>\n",
       "    </tr>\n",
       "  </tbody>\n",
       "</table>\n",
       "</div>"
      ],
      "text/plain": [
       "   Unnamed: 0        date     sunrise      sunset\n",
       "0           0  2012-01-01  3:25:07 PM  1:01:44 AM\n",
       "1           1  2012-01-02  3:25:15 PM  1:02:33 AM\n",
       "2           2  2012-01-03  3:25:20 PM  1:03:23 AM\n",
       "3           3  2012-01-04  3:25:23 PM  1:04:14 AM\n",
       "4           4  2012-01-05  3:25:25 PM  1:05:06 AM"
      ]
     },
     "execution_count": 1,
     "metadata": {},
     "output_type": "execute_result"
    }
   ],
   "source": [
    "import datetime\n",
    "import pandas as pd\n",
    "from datetime import timedelta\n",
    "df = pd.read_csv('original_sunrise_sunset.csv')\n",
    "df['sunrise_time'] = df['date'] +' '+ df['sunrise']\n",
    "df['sunrise_time'] = pd.to_datetime(df['sunrise_time'])\n",
    "df['sunset_time']  = df['date'] +' '+ df['sunset']\n",
    "df['sunset_time']  = pd.to_datetime(df['sunset_time'])\n",
    "df.head()"
   ]
  },
  {
   "cell_type": "code",
   "execution_count": 57,
   "metadata": {},
   "outputs": [
    {
     "data": {
      "text/html": [
       "<div>\n",
       "<style>\n",
       "    .dataframe thead tr:only-child th {\n",
       "        text-align: right;\n",
       "    }\n",
       "\n",
       "    .dataframe thead th {\n",
       "        text-align: left;\n",
       "    }\n",
       "\n",
       "    .dataframe tbody tr th {\n",
       "        vertical-align: top;\n",
       "    }\n",
       "</style>\n",
       "<table border=\"1\" class=\"dataframe\">\n",
       "  <thead>\n",
       "    <tr style=\"text-align: right;\">\n",
       "      <th></th>\n",
       "      <th>date</th>\n",
       "      <th>sunrise_time</th>\n",
       "      <th>sunset_time</th>\n",
       "      <th>col</th>\n",
       "    </tr>\n",
       "  </thead>\n",
       "  <tbody>\n",
       "    <tr>\n",
       "      <th>0</th>\n",
       "      <td>2012-01-01</td>\n",
       "      <td>2012-01-01 15:25:07</td>\n",
       "      <td>2012-01-01 01:01:44</td>\n",
       "      <td>2012-01-01</td>\n",
       "    </tr>\n",
       "    <tr>\n",
       "      <th>1</th>\n",
       "      <td>2012-01-02</td>\n",
       "      <td>2012-01-02 15:25:15</td>\n",
       "      <td>2012-01-02 01:02:33</td>\n",
       "      <td>2012-01-02</td>\n",
       "    </tr>\n",
       "    <tr>\n",
       "      <th>2</th>\n",
       "      <td>2012-01-03</td>\n",
       "      <td>2012-01-03 15:25:20</td>\n",
       "      <td>2012-01-03 01:03:23</td>\n",
       "      <td>2012-01-03</td>\n",
       "    </tr>\n",
       "    <tr>\n",
       "      <th>3</th>\n",
       "      <td>2012-01-04</td>\n",
       "      <td>2012-01-04 15:25:23</td>\n",
       "      <td>2012-01-04 01:04:14</td>\n",
       "      <td>2012-01-04</td>\n",
       "    </tr>\n",
       "    <tr>\n",
       "      <th>4</th>\n",
       "      <td>2012-01-05</td>\n",
       "      <td>2012-01-05 15:25:25</td>\n",
       "      <td>2012-01-05 01:05:06</td>\n",
       "      <td>2012-01-05</td>\n",
       "    </tr>\n",
       "  </tbody>\n",
       "</table>\n",
       "</div>"
      ],
      "text/plain": [
       "         date        sunrise_time         sunset_time        col\n",
       "0  2012-01-01 2012-01-01 15:25:07 2012-01-01 01:01:44 2012-01-01\n",
       "1  2012-01-02 2012-01-02 15:25:15 2012-01-02 01:02:33 2012-01-02\n",
       "2  2012-01-03 2012-01-03 15:25:20 2012-01-03 01:03:23 2012-01-03\n",
       "3  2012-01-04 2012-01-04 15:25:23 2012-01-04 01:04:14 2012-01-04\n",
       "4  2012-01-05 2012-01-05 15:25:25 2012-01-05 01:05:06 2012-01-05"
      ]
     },
     "execution_count": 57,
     "metadata": {},
     "output_type": "execute_result"
    }
   ],
   "source": [
    "def Adjust_DST(date, sunrise_time, sunset_time):\n",
    "    a = datetime.datetime.strptime(date,'%Y-%m-%d')\n",
    "    return a\n",
    "    #datetime.datetime.striptime('2012-03-11','%Y-%m-%d'):\n",
    "\n",
    "df2= df1\n",
    "df2['col'] = df2.apply(lambda row: Adjust_DST(row['date'], row['sunrise_time'], row['sunset_time']), axis=1)\n",
    "df2.head()"
   ]
  },
  {
   "cell_type": "code",
   "execution_count": 55,
   "metadata": {},
   "outputs": [
    {
     "data": {
      "text/html": [
       "<div>\n",
       "<style>\n",
       "    .dataframe thead tr:only-child th {\n",
       "        text-align: right;\n",
       "    }\n",
       "\n",
       "    .dataframe thead th {\n",
       "        text-align: left;\n",
       "    }\n",
       "\n",
       "    .dataframe tbody tr th {\n",
       "        vertical-align: top;\n",
       "    }\n",
       "</style>\n",
       "<table border=\"1\" class=\"dataframe\">\n",
       "  <thead>\n",
       "    <tr style=\"text-align: right;\">\n",
       "      <th></th>\n",
       "      <th>date</th>\n",
       "      <th>sunrise_time</th>\n",
       "      <th>sunset_time</th>\n",
       "    </tr>\n",
       "  </thead>\n",
       "  <tbody>\n",
       "    <tr>\n",
       "      <th>0</th>\n",
       "      <td>2012-01-01</td>\n",
       "      <td>2012-01-01 15:25:07</td>\n",
       "      <td>2012-01-01 01:01:44</td>\n",
       "    </tr>\n",
       "    <tr>\n",
       "      <th>1</th>\n",
       "      <td>2012-01-02</td>\n",
       "      <td>2012-01-02 15:25:15</td>\n",
       "      <td>2012-01-02 01:02:33</td>\n",
       "    </tr>\n",
       "    <tr>\n",
       "      <th>2</th>\n",
       "      <td>2012-01-03</td>\n",
       "      <td>2012-01-03 15:25:20</td>\n",
       "      <td>2012-01-03 01:03:23</td>\n",
       "    </tr>\n",
       "    <tr>\n",
       "      <th>3</th>\n",
       "      <td>2012-01-04</td>\n",
       "      <td>2012-01-04 15:25:23</td>\n",
       "      <td>2012-01-04 01:04:14</td>\n",
       "    </tr>\n",
       "    <tr>\n",
       "      <th>4</th>\n",
       "      <td>2012-01-05</td>\n",
       "      <td>2012-01-05 15:25:25</td>\n",
       "      <td>2012-01-05 01:05:06</td>\n",
       "    </tr>\n",
       "  </tbody>\n",
       "</table>\n",
       "</div>"
      ],
      "text/plain": [
       "         date        sunrise_time         sunset_time\n",
       "0  2012-01-01 2012-01-01 15:25:07 2012-01-01 01:01:44\n",
       "1  2012-01-02 2012-01-02 15:25:15 2012-01-02 01:02:33\n",
       "2  2012-01-03 2012-01-03 15:25:20 2012-01-03 01:03:23\n",
       "3  2012-01-04 2012-01-04 15:25:23 2012-01-04 01:04:14\n",
       "4  2012-01-05 2012-01-05 15:25:25 2012-01-05 01:05:06"
      ]
     },
     "execution_count": 55,
     "metadata": {},
     "output_type": "execute_result"
    }
   ],
   "source": [
    "df1.head()"
   ]
  },
  {
   "cell_type": "code",
   "execution_count": 32,
   "metadata": {},
   "outputs": [
    {
     "data": {
      "text/plain": [
       "(Timestamp('2012-01-01 07:25:07'), Timestamp('2012-01-01 17:01:44'))"
      ]
     },
     "execution_count": 32,
     "metadata": {},
     "output_type": "execute_result"
    }
   ],
   "source": [
    "a = df1['date'][0]\n",
    "b = df1['sunrise_time'][0]\n",
    "c = df1['sunset_time'][0]\n",
    "\n",
    "i = Adjust_DST(a,b,c)\n",
    "i"
   ]
  },
  {
   "cell_type": "code",
   "execution_count": null,
   "metadata": {
    "collapsed": true
   },
   "outputs": [],
   "source": [
    "'''\n",
    "2012\tSunday, March 11, 2:00 am\tSunday, November 4, 2:00 am\n",
    "2013\tSunday, March 10, 2:00 am\tSunday, November 3, 2:00 am\n",
    "2014\tSunday, March 9, 2:00 am\tSunday, November 2, 2:00 am\n",
    "2015\tSunday, March 8, 2:00 am\tSunday, November 1, 2:00 am\n",
    "2016\tSunday, March 13, 2:00 am\tSunday, November 6, 2:00 am\n",
    "2017\tSunday, March 12, 2:00 am\tSunday, November 5, 2:00 am\n",
    "'''"
   ]
  },
  {
   "cell_type": "code",
   "execution_count": 62,
   "metadata": {},
   "outputs": [
    {
     "data": {
      "text/html": [
       "<div>\n",
       "<style>\n",
       "    .dataframe thead tr:only-child th {\n",
       "        text-align: right;\n",
       "    }\n",
       "\n",
       "    .dataframe thead th {\n",
       "        text-align: left;\n",
       "    }\n",
       "\n",
       "    .dataframe tbody tr th {\n",
       "        vertical-align: top;\n",
       "    }\n",
       "</style>\n",
       "<table border=\"1\" class=\"dataframe\">\n",
       "  <thead>\n",
       "    <tr style=\"text-align: right;\">\n",
       "      <th></th>\n",
       "      <th>date</th>\n",
       "      <th>sunrise_time</th>\n",
       "      <th>sunset_time</th>\n",
       "    </tr>\n",
       "  </thead>\n",
       "  <tbody>\n",
       "    <tr>\n",
       "      <th>0</th>\n",
       "      <td>2012-01-01</td>\n",
       "      <td>2012-01-01 07:25:07</td>\n",
       "      <td>2012-01-01 17:01:44</td>\n",
       "    </tr>\n",
       "    <tr>\n",
       "      <th>1</th>\n",
       "      <td>2012-01-02</td>\n",
       "      <td>2012-01-02 07:25:15</td>\n",
       "      <td>2012-01-02 17:02:33</td>\n",
       "    </tr>\n",
       "    <tr>\n",
       "      <th>2</th>\n",
       "      <td>2012-01-03</td>\n",
       "      <td>2012-01-03 07:25:20</td>\n",
       "      <td>2012-01-03 17:03:23</td>\n",
       "    </tr>\n",
       "    <tr>\n",
       "      <th>3</th>\n",
       "      <td>2012-01-04</td>\n",
       "      <td>2012-01-04 07:25:23</td>\n",
       "      <td>2012-01-04 17:04:14</td>\n",
       "    </tr>\n",
       "    <tr>\n",
       "      <th>4</th>\n",
       "      <td>2012-01-05</td>\n",
       "      <td>2012-01-05 07:25:25</td>\n",
       "      <td>2012-01-05 17:05:06</td>\n",
       "    </tr>\n",
       "  </tbody>\n",
       "</table>\n",
       "</div>"
      ],
      "text/plain": [
       "        date        sunrise_time         sunset_time\n",
       "0 2012-01-01 2012-01-01 07:25:07 2012-01-01 17:01:44\n",
       "1 2012-01-02 2012-01-02 07:25:15 2012-01-02 17:02:33\n",
       "2 2012-01-03 2012-01-03 07:25:20 2012-01-03 17:03:23\n",
       "3 2012-01-04 2012-01-04 07:25:23 2012-01-04 17:04:14\n",
       "4 2012-01-05 2012-01-05 07:25:25 2012-01-05 17:05:06"
      ]
     },
     "execution_count": 62,
     "metadata": {},
     "output_type": "execute_result"
    }
   ],
   "source": [
    "df1 = df.drop(['sunrise','sunset','Unnamed: 0'],axis=1)\n",
    "\n",
    "def Adjust_DST(date, sunrise_time, sunset_time):\n",
    "    global a, b\n",
    "    if datetime.datetime.strptime(date,'%Y-%m-%d') < datetime.datetime.strptime('2012-03-11','%Y-%m-%d'):\n",
    "        a = sunrise_time + timedelta(hours=-8)\n",
    "        b  = sunset_time  + timedelta(hours=16)\n",
    "    elif datetime.datetime.strptime(date,'%Y-%m-%d') < datetime.datetime.strptime('2012-11-04','%Y-%m-%d'):\n",
    "        a = sunrise_time + timedelta(hours=-7)\n",
    "        b  = sunset_time  + timedelta(hours=17)\n",
    "    elif datetime.datetime.strptime(date,'%Y-%m-%d') < datetime.datetime.strptime('2013-03-10','%Y-%m-%d'):\n",
    "        a = sunrise_time + timedelta(hours=-8)\n",
    "        b  = sunset_time  + timedelta(hours=16)\n",
    "    elif datetime.datetime.strptime(date,'%Y-%m-%d') < datetime.datetime.strptime('2013-11-03','%Y-%m-%d'):\n",
    "        a = sunrise_time + timedelta(hours=-7)\n",
    "        b  = sunset_time  + timedelta(hours=17)\n",
    "    elif datetime.datetime.strptime(date,'%Y-%m-%d') < datetime.datetime.strptime('2014-03-09','%Y-%m-%d'):\n",
    "        a = sunrise_time + timedelta(hours=-8)\n",
    "        b  = sunset_time  + timedelta(hours=16)\n",
    "    elif datetime.datetime.strptime(date,'%Y-%m-%d') < datetime.datetime.strptime('2014-11-02','%Y-%m-%d'):\n",
    "        a = sunrise_time + timedelta(hours=-7)\n",
    "        b  = sunset_time  + timedelta(hours=17)\n",
    "    elif datetime.datetime.strptime(date,'%Y-%m-%d') < datetime.datetime.strptime('2015-03-08','%Y-%m-%d'):\n",
    "        a = sunrise_time + timedelta(hours=-8)\n",
    "        b  = sunset_time  + timedelta(hours=16)\n",
    "    elif datetime.datetime.strptime(date,'%Y-%m-%d') < datetime.datetime.strptime('2015-11-01','%Y-%m-%d'):\n",
    "        a = sunrise_time + timedelta(hours=-7)\n",
    "        b  = sunset_time  + timedelta(hours=17)\n",
    "    elif datetime.datetime.strptime(date,'%Y-%m-%d') < datetime.datetime.strptime('2016-03-13','%Y-%m-%d'):\n",
    "        a = sunrise_time + timedelta(hours=-8)\n",
    "        b  = sunset_time  + timedelta(hours=16)\n",
    "    elif datetime.datetime.strptime(date,'%Y-%m-%d') < datetime.datetime.strptime('2016-11-06','%Y-%m-%d'):\n",
    "        a = sunrise_time + timedelta(hours=-7)\n",
    "        b  = sunset_time  + timedelta(hours=17)\n",
    "    elif datetime.datetime.strptime(date,'%Y-%m-%d') < datetime.datetime.strptime('2017-03-12','%Y-%m-%d'):\n",
    "        a = sunrise_time + timedelta(hours=-8)\n",
    "        b  = sunset_time  + timedelta(hours=16)\n",
    "    elif datetime.datetime.strptime(date,'%Y-%m-%d') < datetime.datetime.strptime('2017-11-05','%Y-%m-%d'):\n",
    "        a = sunrise_time + timedelta(hours=-7)\n",
    "        b  = sunset_time  + timedelta(hours=17)\n",
    "    return date, a, b\n",
    "\n",
    "df2 = df1.apply(lambda row: Adjust_DST(row['date'], row['sunrise_time'], row['sunset_time']), axis=1)\n",
    "df2.head()"
   ]
  },
  {
   "cell_type": "code",
   "execution_count": 63,
   "metadata": {
    "collapsed": true
   },
   "outputs": [],
   "source": [
    "df2.to_csv('sunrise_sunset.csv')"
   ]
  },
  {
   "cell_type": "code",
   "execution_count": null,
   "metadata": {
    "collapsed": true
   },
   "outputs": [],
   "source": []
  }
 ],
 "metadata": {
  "kernelspec": {
   "display_name": "Python 3",
   "language": "python",
   "name": "python3"
  },
  "language_info": {
   "codemirror_mode": {
    "name": "ipython",
    "version": 3
   },
   "file_extension": ".py",
   "mimetype": "text/x-python",
   "name": "python",
   "nbconvert_exporter": "python",
   "pygments_lexer": "ipython3",
   "version": "3.7.2"
  }
 },
 "nbformat": 4,
 "nbformat_minor": 2
}
